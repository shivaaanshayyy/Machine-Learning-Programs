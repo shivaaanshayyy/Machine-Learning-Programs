{
 "cells": [
  {
   "cell_type": "markdown",
   "id": "a2542def-aab9-4414-a88e-a163ce02f1a1",
   "metadata": {},
   "source": [
    "### ML LAB FINAL EXAM: VIVA QUESTIONS\n",
    "### SHIVANSHI MAHESHWARI\n",
    "### 21BDA33\n",
    "### 08 AUGUST, 2022"
   ]
  },
  {
   "cell_type": "markdown",
   "id": "5602b2e6-5228-400d-9336-c1ab5b080e01",
   "metadata": {},
   "source": [
    "### SECTION 1 : QUESTION 3"
   ]
  },
  {
   "cell_type": "markdown",
   "id": "1fc5a781-36c8-4b1d-98f0-4e63b6093b69",
   "metadata": {},
   "source": [
    "### Sketch the hyperplane −2+𝑋1+ 2𝑋2=0. Indicate the set of points for which  −2+𝑋1+ 2𝑋2>0, as well as the set of points for which  −2+𝑋1+ 2𝑋2<0. "
   ]
  },
  {
   "cell_type": "markdown",
   "id": "098aa36f-2ad0-4ae5-b2b1-d1e08a2023e1",
   "metadata": {},
   "source": [
    "### SOLUTION\n",
    "### x2 = 1 - (1/2)x1"
   ]
  },
  {
   "cell_type": "code",
   "execution_count": 19,
   "id": "e504bb9c-44b5-4eab-9665-670c4ca9ae0c",
   "metadata": {},
   "outputs": [
    {
     "data": {
      "text/plain": [
       "Text(-6, -2, '-2+X1+2X2<0')"
      ]
     },
     "execution_count": 19,
     "metadata": {},
     "output_type": "execute_result"
    },
    {
     "data": {
      "image/png": "[encoded data removed]",
      "text/plain": [
       "<Figure size 720x720 with 1 Axes>"
      ]
     },
     "metadata": {
      "needs_background": "light"
     },
     "output_type": "display_data"
    }
   ],
   "source": [
    "import numpy as np\n",
    "import pandas as pd\n",
    "import matplotlib.pyplot as plt \n",
    "x1 = range(-15,15)\n",
    "x2=list()\n",
    "for i in range(len(x1)):\n",
    "    x2.append(1-0.5*x1[i])\n",
    "\n",
    "\n",
    "plt.figure(figsize=(10, 10))\n",
    "plt.plot(x1, x2,color = 'blue', linewidth=3)\n",
    "\n",
    "plt.xlabel(\"X1\")\n",
    "plt.ylabel(\"X2\")\n",
    "plt.text(1, 5, '-2+X1+2X2>0', \n",
    "         fontsize = 18, color = 'g')\n",
    "\n",
    "plt.text(-6, -2, '-2+X1+2X2<0', \n",
    "         fontsize = 18, color = 'r')\n"
   ]
  },
  {
   "cell_type": "markdown",
   "id": "42f4e4ae-fc5a-4532-afed-4bbea63b24e8",
   "metadata": {},
   "source": [
    "### Above is the hyperplane sketched for the equation\n",
    "### The area above the line shows the set of points where the value of the hyperplane would be greater than zero\n",
    "### The area below the line shows the set of points where the value of the hyperplane would be less than zero"
   ]
  },
  {
   "cell_type": "code",
   "execution_count": null,
   "id": "45c44f70-7212-4006-831d-dce6905b1885",
   "metadata": {},
   "outputs": [],
   "source": []
  },
  {
   "cell_type": "markdown",
   "id": "62482624-c69a-4bf0-afb4-2208ee6fdf89",
   "metadata": {},
   "source": [
    "### SECTION 2 : QUESTION 2"
   ]
  },
  {
   "cell_type": "markdown",
   "id": "17b9031b-a987-484a-bb38-c836a5e42605",
   "metadata": {},
   "source": [
    "### Provide a detailed explanation to fit a Logistic Regression Model with an Example"
   ]
  },
  {
   "cell_type": "markdown",
   "id": "2b2b0d62-f996-4894-b3b2-27cdbd2b45ea",
   "metadata": {},
   "source": [
    "#### Regression is a Supervised Learning Technique which is used to show how the values of a dependent variable changes with Respect to an independent variable\n",
    "\n",
    "#### Logistic Regression is the regression technique that is used to show the relationship between the categorical independent variables and dependent variable."
   ]
  },
  {
   "cell_type": "markdown",
   "id": "fa98c3fe-04b7-4f66-a8f3-f48658dc543f",
   "metadata": {},
   "source": [
    "### Fitting a Regression Model"
   ]
  },
  {
   "cell_type": "markdown",
   "id": "e5f2b9e7-4b1d-4f5b-ae6d-ae6660283b6d",
   "metadata": {},
   "source": [
    "### Step 1: Read And Understand the data"
   ]
  },
  {
   "cell_type": "markdown",
   "id": "e016e5f6-5ad5-4144-bb61-706f8c7df71e",
   "metadata": {},
   "source": [
    "#### For eg: For a heart stroke prediction dataset, there would be variables like Cholesterol, Age, Marriage, BP, Occupation, gender and Finally Stroke\n",
    "#### We need to read this data and see the shape of the Dataframe.\n",
    "#### We also need to identify the independent and dependent variables, in this case stroke is dependent"
   ]
  },
  {
   "cell_type": "markdown",
   "id": "99f44a23-b1bd-4c7d-a065-c95bbae455f8",
   "metadata": {},
   "source": [
    "### Step 2: Exploratory Data Analysis and Finding Multicollinearity"
   ]
  },
  {
   "cell_type": "markdown",
   "id": "8eb3dfed-da35-42cd-99bf-8e4801dfe01f",
   "metadata": {},
   "source": [
    "#### We need to do EDA on our data to find out patterns and relationships: univariate, bivariate and multivariate\n",
    "#### For eg: \n",
    "#### Univariate : Age and Stroke, Cholesterol and Stroke, BP and Stroke\n",
    "#### Bivariate : Age and Cholestrol and Stroke, BP and Cholesterol and Stroke\n",
    "#### Multivariate : Age, BP, Marriage and Stroke, Age, BP, Occupation and Stroke\n",
    "#### Also Plotting a correlation plot to find the correlation among variables because multi-collinearity is not good for training\n"
   ]
  },
  {
   "cell_type": "markdown",
   "id": "ecb10291-c422-4f20-a88b-ae80b1a7cd3d",
   "metadata": {},
   "source": [
    "### Step 3: Selecting the variables and converting the binary variables to 0 and 1."
   ]
  },
  {
   "cell_type": "markdown",
   "id": "b29cbe49-5882-4907-a17f-97dbe7ffe4ee",
   "metadata": {},
   "source": [
    "#### The variables that have the lowest p-values are selected.\n",
    "#### All the variables cannot be kept because they can be insignificant which is determined by their p-values\n",
    "#### Suppose the values for Stroke are yes and no, then they would be converted to 1 and 0 respectively."
   ]
  },
  {
   "cell_type": "markdown",
   "id": "3183afe4-0a1b-42a3-87ae-a41bd98e7d1d",
   "metadata": {},
   "source": [
    "### Step 4: Building the Logistic Regression Model"
   ]
  },
  {
   "cell_type": "markdown",
   "id": "f496a3f7-f2be-4b61-b1d9-d748ef79425a",
   "metadata": {},
   "source": [
    "#### We need to import the libraries from the sklearn package.\n",
    "#### We then split the data into train and test using 70-30 or 80-20 ratio.\n",
    "#### After that the model training is done."
   ]
  },
  {
   "cell_type": "markdown",
   "id": "71f35eba-4f70-4fe8-a943-8c3909109407",
   "metadata": {},
   "source": [
    "### Step 5: Testing the Model"
   ]
  },
  {
   "cell_type": "markdown",
   "id": "d341193c-4c95-4329-a021-36397dbf7ea6",
   "metadata": {},
   "source": [
    "#### Since the logistic Regression model gives probabilities as output, the values cannot be less than 0 and greater than 1\n",
    "#### We use Confusion Matrix as an evaluation metric.\n",
    "#### We check for Accuracy, Precision, Specificity, Recall\n",
    "#### Accuracy is the number of values that are accurately predicted\n",
    "#### Precision is the probability of predicting a true positive\n",
    "#### Specificity is the number of true negatives correctly predicted with respect to the total number of negatives i.e. true negatives + false positives\n",
    "#### Recall is the number of true positives correctly predicted with respect to the total number of positives i.e true positives + false negatives"
   ]
  },
  {
   "cell_type": "code",
   "execution_count": null,
   "id": "e913eef5-b6b2-4778-8d33-4b152cb32d1b",
   "metadata": {},
   "outputs": [],
   "source": []
  },
  {
   "cell_type": "code",
   "execution_count": null,
   "id": "cf1c18d7-863a-4ff3-8c9f-53d1bc0d6634",
   "metadata": {},
   "outputs": [],
   "source": []
  },
  {
   "cell_type": "code",
   "execution_count": null,
   "id": "08c2f4f8-2ad1-4e09-9dbf-7c0a2996fd09",
   "metadata": {},
   "outputs": [],
   "source": []
  },
  {
   "cell_type": "code",
   "execution_count": null,
   "id": "42426051-0645-4ac3-aaee-f58b53bad80a",
   "metadata": {},
   "outputs": [],
   "source": []
  }
 ],
 "metadata": {
  "kernelspec": {
   "display_name": "Python 3 (ipykernel)",
   "language": "python",
   "name": "python3"
  },
  "language_info": {
   "codemirror_mode": {
    "name": "ipython",
    "version": 3
   },
   "file_extension": ".py",
   "mimetype": "text/x-python",
   "name": "python",
   "nbconvert_exporter": "python",
   "pygments_lexer": "ipython3",
   "version": "3.9.12"
  }
 },
 "nbformat": 4,
 "nbformat_minor": 5
}
