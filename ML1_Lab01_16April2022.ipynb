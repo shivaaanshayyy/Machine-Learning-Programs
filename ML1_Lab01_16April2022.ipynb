{
 "cells": [
  {
   "cell_type": "markdown",
   "id": "87701282",
   "metadata": {},
   "source": [
    "### 16 April, 2022"
   ]
  },
  {
   "cell_type": "markdown",
   "id": "6ff617a2",
   "metadata": {},
   "source": [
    "## Machine Learning Lab- I\n",
    "### 21BDA33"
   ]
  },
  {
   "cell_type": "code",
   "execution_count": 65,
   "id": "364ebc61",
   "metadata": {},
   "outputs": [],
   "source": [
    "a=(1,2,3)"
   ]
  },
  {
   "cell_type": "code",
   "execution_count": 66,
   "id": "57a662b6",
   "metadata": {},
   "outputs": [
    {
     "data": {
      "text/plain": [
       "(1, 2, 3, 1, 2, 3)"
      ]
     },
     "execution_count": 66,
     "metadata": {},
     "output_type": "execute_result"
    }
   ],
   "source": [
    "a+a"
   ]
  },
  {
   "cell_type": "code",
   "execution_count": 67,
   "id": "6fb6feca",
   "metadata": {},
   "outputs": [],
   "source": [
    "a=[1,2,3]"
   ]
  },
  {
   "cell_type": "code",
   "execution_count": 68,
   "id": "1d334ed6",
   "metadata": {},
   "outputs": [
    {
     "data": {
      "text/plain": [
       "[1, 2, 3, 1, 2, 3]"
      ]
     },
     "execution_count": 68,
     "metadata": {},
     "output_type": "execute_result"
    }
   ],
   "source": [
    "a+a"
   ]
  },
  {
   "cell_type": "code",
   "execution_count": 69,
   "id": "970b207f",
   "metadata": {},
   "outputs": [
    {
     "data": {
      "text/plain": [
       "2"
      ]
     },
     "execution_count": 69,
     "metadata": {},
     "output_type": "execute_result"
    }
   ],
   "source": [
    "1+1"
   ]
  },
  {
   "cell_type": "code",
   "execution_count": 70,
   "id": "f41c7cfe",
   "metadata": {},
   "outputs": [
    {
     "data": {
      "text/plain": [
       "'11'"
      ]
     },
     "execution_count": 70,
     "metadata": {},
     "output_type": "execute_result"
    }
   ],
   "source": [
    "'1'+'1'"
   ]
  },
  {
   "cell_type": "code",
   "execution_count": 71,
   "id": "ab046663",
   "metadata": {},
   "outputs": [
    {
     "data": {
      "text/plain": [
       "int"
      ]
     },
     "execution_count": 71,
     "metadata": {},
     "output_type": "execute_result"
    }
   ],
   "source": [
    "type(1)"
   ]
  },
  {
   "cell_type": "code",
   "execution_count": 72,
   "id": "ed8beffc",
   "metadata": {},
   "outputs": [
    {
     "data": {
      "text/plain": [
       "float"
      ]
     },
     "execution_count": 72,
     "metadata": {},
     "output_type": "execute_result"
    }
   ],
   "source": [
    "type(1.0)"
   ]
  },
  {
   "cell_type": "code",
   "execution_count": 73,
   "id": "2388c67b",
   "metadata": {},
   "outputs": [
    {
     "data": {
      "text/plain": [
       "str"
      ]
     },
     "execution_count": 73,
     "metadata": {},
     "output_type": "execute_result"
    }
   ],
   "source": [
    "type('1')"
   ]
  },
  {
   "cell_type": "code",
   "execution_count": 74,
   "id": "53da8683",
   "metadata": {},
   "outputs": [],
   "source": [
    "a=12"
   ]
  },
  {
   "cell_type": "code",
   "execution_count": 75,
   "id": "7f5fa8ff",
   "metadata": {},
   "outputs": [
    {
     "data": {
      "text/plain": [
       "True"
      ]
     },
     "execution_count": 75,
     "metadata": {},
     "output_type": "execute_result"
    }
   ],
   "source": [
    "a==12"
   ]
  },
  {
   "cell_type": "code",
   "execution_count": 76,
   "id": "d04212d4",
   "metadata": {},
   "outputs": [],
   "source": [
    "tup1=(12,20)"
   ]
  },
  {
   "cell_type": "code",
   "execution_count": 77,
   "id": "2f3dc6a8",
   "metadata": {},
   "outputs": [
    {
     "data": {
      "text/plain": [
       "tuple"
      ]
     },
     "execution_count": 77,
     "metadata": {},
     "output_type": "execute_result"
    }
   ],
   "source": [
    "type(tup1)"
   ]
  },
  {
   "cell_type": "code",
   "execution_count": 78,
   "id": "5010b561",
   "metadata": {},
   "outputs": [],
   "source": [
    "l1=list(tup1)"
   ]
  },
  {
   "cell_type": "code",
   "execution_count": 79,
   "id": "3ff9763e",
   "metadata": {},
   "outputs": [
    {
     "data": {
      "text/plain": [
       "list"
      ]
     },
     "execution_count": 79,
     "metadata": {},
     "output_type": "execute_result"
    }
   ],
   "source": [
    "type(l1)"
   ]
  },
  {
   "cell_type": "code",
   "execution_count": 1,
   "id": "2f972408",
   "metadata": {},
   "outputs": [
    {
     "name": "stdout",
     "output_type": "stream",
     "text": [
      "10\n",
      "20\n",
      "30\n",
      "50\n",
      "75\n",
      "90\n",
      "95\n"
     ]
    }
   ],
   "source": [
    "marks=[10,20,30,50,75,90,95]\n",
    "for i in range(len(marks)):\n",
    "    print (marks[i])"
   ]
  },
  {
   "cell_type": "code",
   "execution_count": 2,
   "id": "37baa44a",
   "metadata": {},
   "outputs": [
    {
     "name": "stdout",
     "output_type": "stream",
     "text": [
      "10\n",
      "20\n",
      "30\n",
      "50\n",
      "75\n",
      "90\n",
      "95\n"
     ]
    }
   ],
   "source": [
    "for mark in marks:\n",
    "    print(mark)"
   ]
  },
  {
   "cell_type": "code",
   "execution_count": 3,
   "id": "2980f0b0",
   "metadata": {},
   "outputs": [
    {
     "name": "stdout",
     "output_type": "stream",
     "text": [
      "10\n",
      "Fail\n",
      "--------------\n",
      "20\n",
      "Fail\n",
      "--------------\n",
      "30\n",
      "Fail\n",
      "--------------\n",
      "50\n",
      "Pass\n",
      "--------------\n",
      "75\n",
      "Pass\n",
      "--------------\n",
      "90\n",
      "Pass\n",
      "--------------\n",
      "95\n",
      "Pass\n",
      "--------------\n"
     ]
    }
   ],
   "source": [
    "pass_mark=50\n",
    "for mark in marks:\n",
    "    print(mark)\n",
    "    if(mark<pass_mark):\n",
    "        print(\"Fail\")\n",
    "    else:\n",
    "        print(\"Pass\")\n",
    "    print(\"--------------\")"
   ]
  },
  {
   "cell_type": "markdown",
   "id": "91a22982",
   "metadata": {},
   "source": [
    "### This below program is faulty because the grace condition is wrong"
   ]
  },
  {
   "cell_type": "code",
   "execution_count": 4,
   "id": "c6a4fec3",
   "metadata": {},
   "outputs": [
    {
     "name": "stdout",
     "output_type": "stream",
     "text": [
      "10\n",
      "Fail\n",
      "--------------\n",
      "20\n",
      "Fail\n",
      "--------------\n",
      "30\n",
      "Pass\n",
      "--------------\n",
      "50\n",
      "Pass\n",
      "--------------\n",
      "75\n",
      "Pass\n",
      "--------------\n",
      "90\n",
      "Pass\n",
      "--------------\n",
      "95\n",
      "Pass\n",
      "--------------\n"
     ]
    }
   ],
   "source": [
    "pass_mark=50\n",
    "for mark in marks:\n",
    "    print(mark)\n",
    "    if(mark<pass_mark)&(mark>=50):\n",
    "        print(\"Grace\")\n",
    "    elif(mark<30):\n",
    "        print(\"Fail\")\n",
    "    else:\n",
    "        print(\"Pass\")\n",
    "    print(\"--------------\")"
   ]
  },
  {
   "cell_type": "code",
   "execution_count": 5,
   "id": "5ec21e03",
   "metadata": {},
   "outputs": [
    {
     "name": "stdout",
     "output_type": "stream",
     "text": [
      "10\n",
      "Fail\n",
      "--------------\n",
      "20\n",
      "Fail\n",
      "--------------\n",
      "30\n",
      "Grace\n",
      "--------------\n",
      "50\n",
      "Pass\n",
      "--------------\n",
      "75\n",
      "Pass\n",
      "--------------\n",
      "90\n",
      "Pass\n",
      "--------------\n",
      "95\n",
      "Pass\n",
      "--------------\n"
     ]
    }
   ],
   "source": [
    "#pass_mark=50\n",
    "for mark in marks:\n",
    "    print(mark)\n",
    "    if(mark<pass_mark)&(mark>=30):\n",
    "        print(\"Grace\")\n",
    "    elif(mark<pass_mark)&(mark<30):\n",
    "        print(\"Fail\")\n",
    "    else:\n",
    "        print(\"Pass\")\n",
    "    print(\"--------------\")"
   ]
  },
  {
   "cell_type": "markdown",
   "id": "86d281f5",
   "metadata": {},
   "source": [
    "### The below program doesnot gives grace because the condition isn't satisfied anywhere"
   ]
  },
  {
   "cell_type": "code",
   "execution_count": 6,
   "id": "ac59d443",
   "metadata": {},
   "outputs": [
    {
     "name": "stdout",
     "output_type": "stream",
     "text": [
      "10\n",
      "Fail\n",
      "--------------\n",
      "20\n",
      "Fail\n",
      "--------------\n",
      "30\n",
      "Fail\n",
      "--------------\n",
      "50\n",
      "Pass\n",
      "--------------\n",
      "75\n",
      "Pass\n",
      "--------------\n",
      "90\n",
      "Pass\n",
      "--------------\n",
      "95\n",
      "Pass\n",
      "--------------\n"
     ]
    }
   ],
   "source": [
    "#pass_mark=50\n",
    "for mark in marks:\n",
    "    print(mark)\n",
    "    if(mark<pass_mark)&(mark>30):\n",
    "        print(\"Grace\")\n",
    "    elif(mark<pass_mark)&(mark<50):\n",
    "        print(\"Fail\")\n",
    "    else:\n",
    "        print(\"Pass\")\n",
    "    print(\"--------------\")"
   ]
  },
  {
   "cell_type": "code",
   "execution_count": 7,
   "id": "3c8e6df1",
   "metadata": {},
   "outputs": [
    {
     "name": "stdout",
     "output_type": "stream",
     "text": [
      "3\n",
      "6\n",
      "9\n",
      "12\n",
      "15\n",
      "18\n",
      "21\n",
      "24\n",
      "27\n"
     ]
    }
   ],
   "source": [
    "x=range(3,30,3)\n",
    "for n in x:\n",
    "    print(n)"
   ]
  },
  {
   "cell_type": "code",
   "execution_count": 8,
   "id": "3fecac47",
   "metadata": {},
   "outputs": [],
   "source": [
    "def foo_sum(a,b):\n",
    "    return a+b"
   ]
  },
  {
   "cell_type": "code",
   "execution_count": 9,
   "id": "06231890",
   "metadata": {},
   "outputs": [
    {
     "data": {
      "text/plain": [
       "6"
      ]
     },
     "execution_count": 9,
     "metadata": {},
     "output_type": "execute_result"
    }
   ],
   "source": [
    "foo_sum(4,2)"
   ]
  },
  {
   "cell_type": "code",
   "execution_count": 10,
   "id": "66e98801",
   "metadata": {},
   "outputs": [],
   "source": [
    "def foo_dif(num1=0,num2=0):\n",
    "    return num1-num2"
   ]
  },
  {
   "cell_type": "code",
   "execution_count": 11,
   "id": "3e23b671",
   "metadata": {},
   "outputs": [
    {
     "data": {
      "text/plain": [
       "9"
      ]
     },
     "execution_count": 11,
     "metadata": {},
     "output_type": "execute_result"
    }
   ],
   "source": [
    "foo_dif(num1=15,num2=6)"
   ]
  },
  {
   "cell_type": "code",
   "execution_count": 12,
   "id": "87d6c7b5",
   "metadata": {},
   "outputs": [
    {
     "data": {
      "text/plain": [
       "9"
      ]
     },
     "execution_count": 12,
     "metadata": {},
     "output_type": "execute_result"
    }
   ],
   "source": [
    "foo_dif(num2=6,num1=15)"
   ]
  },
  {
   "cell_type": "code",
   "execution_count": 13,
   "id": "0fe61b38",
   "metadata": {},
   "outputs": [
    {
     "data": {
      "text/plain": [
       "-9"
      ]
     },
     "execution_count": 13,
     "metadata": {},
     "output_type": "execute_result"
    }
   ],
   "source": [
    "foo_dif(6,15)"
   ]
  },
  {
   "cell_type": "code",
   "execution_count": 14,
   "id": "0aaff643",
   "metadata": {},
   "outputs": [
    {
     "data": {
      "text/plain": [
       "15"
      ]
     },
     "execution_count": 14,
     "metadata": {},
     "output_type": "execute_result"
    }
   ],
   "source": [
    "foo_dif(15)"
   ]
  },
  {
   "cell_type": "code",
   "execution_count": 15,
   "id": "ad144314",
   "metadata": {},
   "outputs": [
    {
     "ename": "NameError",
     "evalue": "name 'num1' is not defined",
     "output_type": "error",
     "traceback": [
      "\u001b[0;31m---------------------------------------------------------------------------\u001b[0m",
      "\u001b[0;31mNameError\u001b[0m                                 Traceback (most recent call last)",
      "Input \u001b[0;32mIn [15]\u001b[0m, in \u001b[0;36m<module>\u001b[0;34m\u001b[0m\n\u001b[0;32m----> 1\u001b[0m \u001b[43mnum1\u001b[49m\n",
      "\u001b[0;31mNameError\u001b[0m: name 'num1' is not defined"
     ]
    }
   ],
   "source": [
    "num1"
   ]
  },
  {
   "cell_type": "markdown",
   "id": "ae032f79",
   "metadata": {},
   "source": [
    "#### Scope of num1 is only in the foo_sum and foo_dif function because it is only defined in it"
   ]
  },
  {
   "cell_type": "code",
   "execution_count": null,
   "id": "a915f181",
   "metadata": {},
   "outputs": [],
   "source": []
  },
  {
   "cell_type": "markdown",
   "id": "643e1fd0",
   "metadata": {},
   "source": [
    "## Python for DS"
   ]
  },
  {
   "cell_type": "markdown",
   "id": "a7d79bbd",
   "metadata": {},
   "source": [
    "### Pandas, Numpy, Scipy, Sklearn, Matplotlib\n",
    "### Anything structured is taken care of by pandas.\n",
    "### Numpy is numeric Python\n",
    "### Scipy is Scientific Python\n",
    "### Sklearn\n",
    "### Matplotlib"
   ]
  },
  {
   "cell_type": "markdown",
   "id": "6a58259e",
   "metadata": {},
   "source": [
    "### Structured and Unstructured data."
   ]
  },
  {
   "cell_type": "code",
   "execution_count": 16,
   "id": "8698862b",
   "metadata": {},
   "outputs": [],
   "source": [
    "import pandas as pd\n",
    "import numpy as np"
   ]
  },
  {
   "cell_type": "markdown",
   "id": "e41d3d2a",
   "metadata": {},
   "source": [
    "### There are two types of data Structures in Pandas (initially 3, but now 2) :\n",
    "### DataFrame and Series\n",
    "### Series has 2 parts: index and values"
   ]
  },
  {
   "cell_type": "code",
   "execution_count": 17,
   "id": "fb279230",
   "metadata": {},
   "outputs": [],
   "source": [
    "marks_series=pd.Series(marks)"
   ]
  },
  {
   "cell_type": "code",
   "execution_count": 18,
   "id": "e36265e0",
   "metadata": {},
   "outputs": [
    {
     "data": {
      "text/plain": [
       "0    10\n",
       "1    20\n",
       "2    30\n",
       "3    50\n",
       "4    75\n",
       "5    90\n",
       "6    95\n",
       "dtype: int64"
      ]
     },
     "execution_count": 18,
     "metadata": {},
     "output_type": "execute_result"
    }
   ],
   "source": [
    "marks_series"
   ]
  },
  {
   "cell_type": "code",
   "execution_count": 19,
   "id": "56455c4e",
   "metadata": {},
   "outputs": [
    {
     "data": {
      "text/plain": [
       "RangeIndex(start=0, stop=7, step=1)"
      ]
     },
     "execution_count": 19,
     "metadata": {},
     "output_type": "execute_result"
    }
   ],
   "source": [
    "marks_series.index"
   ]
  },
  {
   "cell_type": "code",
   "execution_count": 20,
   "id": "c978f11c",
   "metadata": {},
   "outputs": [
    {
     "data": {
      "text/plain": [
       "array([10, 20, 30, 50, 75, 90, 95])"
      ]
     },
     "execution_count": 20,
     "metadata": {},
     "output_type": "execute_result"
    }
   ],
   "source": [
    "marks_series.values"
   ]
  },
  {
   "cell_type": "code",
   "execution_count": 21,
   "id": "9b4c6fe5",
   "metadata": {},
   "outputs": [
    {
     "data": {
      "text/plain": [
       "1    20\n",
       "2    30\n",
       "3    50\n",
       "4    75\n",
       "5    90\n",
       "6    95\n",
       "dtype: int64"
      ]
     },
     "execution_count": 21,
     "metadata": {},
     "output_type": "execute_result"
    }
   ],
   "source": [
    "marks_series[1:] #accessing all the elements from 1st index"
   ]
  },
  {
   "cell_type": "code",
   "execution_count": 22,
   "id": "c3c1071c",
   "metadata": {},
   "outputs": [
    {
     "data": {
      "text/plain": [
       "0    10\n",
       "1    20\n",
       "2    30\n",
       "dtype: int64"
      ]
     },
     "execution_count": 22,
     "metadata": {},
     "output_type": "execute_result"
    }
   ],
   "source": [
    "marks_series[:3] #accessing the first 3 elements"
   ]
  },
  {
   "cell_type": "code",
   "execution_count": 23,
   "id": "bb56299e",
   "metadata": {},
   "outputs": [
    {
     "data": {
      "text/plain": [
       "90"
      ]
     },
     "execution_count": 23,
     "metadata": {},
     "output_type": "execute_result"
    }
   ],
   "source": [
    "marks_series[5]"
   ]
  },
  {
   "cell_type": "code",
   "execution_count": 24,
   "id": "d4c1b56d",
   "metadata": {},
   "outputs": [
    {
     "data": {
      "text/plain": [
       "10    1\n",
       "20    1\n",
       "30    1\n",
       "50    1\n",
       "75    1\n",
       "90    1\n",
       "95    1\n",
       "dtype: int64"
      ]
     },
     "execution_count": 24,
     "metadata": {},
     "output_type": "execute_result"
    }
   ],
   "source": [
    "marks_series.value_counts()"
   ]
  },
  {
   "cell_type": "code",
   "execution_count": 25,
   "id": "c231da2e",
   "metadata": {},
   "outputs": [],
   "source": [
    "sample_df=pd.DataFrame([marks,marks])"
   ]
  },
  {
   "cell_type": "code",
   "execution_count": 26,
   "id": "dce87392",
   "metadata": {},
   "outputs": [
    {
     "data": {
      "text/html": [
       "<div>\n",
       "<style scoped>\n",
       "    .dataframe tbody tr th:only-of-type {\n",
       "        vertical-align: middle;\n",
       "    }\n",
       "\n",
       "    .dataframe tbody tr th {\n",
       "        vertical-align: top;\n",
       "    }\n",
       "\n",
       "    .dataframe thead th {\n",
       "        text-align: right;\n",
       "    }\n",
       "</style>\n",
       "<table border=\"1\" class=\"dataframe\">\n",
       "  <thead>\n",
       "    <tr style=\"text-align: right;\">\n",
       "      <th></th>\n",
       "      <th>0</th>\n",
       "      <th>1</th>\n",
       "      <th>2</th>\n",
       "      <th>3</th>\n",
       "      <th>4</th>\n",
       "      <th>5</th>\n",
       "      <th>6</th>\n",
       "    </tr>\n",
       "  </thead>\n",
       "  <tbody>\n",
       "    <tr>\n",
       "      <th>0</th>\n",
       "      <td>10</td>\n",
       "      <td>20</td>\n",
       "      <td>30</td>\n",
       "      <td>50</td>\n",
       "      <td>75</td>\n",
       "      <td>90</td>\n",
       "      <td>95</td>\n",
       "    </tr>\n",
       "    <tr>\n",
       "      <th>1</th>\n",
       "      <td>10</td>\n",
       "      <td>20</td>\n",
       "      <td>30</td>\n",
       "      <td>50</td>\n",
       "      <td>75</td>\n",
       "      <td>90</td>\n",
       "      <td>95</td>\n",
       "    </tr>\n",
       "  </tbody>\n",
       "</table>\n",
       "</div>"
      ],
      "text/plain": [
       "    0   1   2   3   4   5   6\n",
       "0  10  20  30  50  75  90  95\n",
       "1  10  20  30  50  75  90  95"
      ]
     },
     "execution_count": 26,
     "metadata": {},
     "output_type": "execute_result"
    }
   ],
   "source": [
    "sample_df"
   ]
  },
  {
   "cell_type": "code",
   "execution_count": 27,
   "id": "9cfe0713",
   "metadata": {},
   "outputs": [],
   "source": [
    "sample_df=sample_df.T # to do transpose of the matrix"
   ]
  },
  {
   "cell_type": "code",
   "execution_count": 28,
   "id": "b3005f0d",
   "metadata": {},
   "outputs": [
    {
     "data": {
      "text/html": [
       "<div>\n",
       "<style scoped>\n",
       "    .dataframe tbody tr th:only-of-type {\n",
       "        vertical-align: middle;\n",
       "    }\n",
       "\n",
       "    .dataframe tbody tr th {\n",
       "        vertical-align: top;\n",
       "    }\n",
       "\n",
       "    .dataframe thead th {\n",
       "        text-align: right;\n",
       "    }\n",
       "</style>\n",
       "<table border=\"1\" class=\"dataframe\">\n",
       "  <thead>\n",
       "    <tr style=\"text-align: right;\">\n",
       "      <th></th>\n",
       "      <th>0</th>\n",
       "      <th>1</th>\n",
       "    </tr>\n",
       "  </thead>\n",
       "  <tbody>\n",
       "    <tr>\n",
       "      <th>0</th>\n",
       "      <td>10</td>\n",
       "      <td>10</td>\n",
       "    </tr>\n",
       "    <tr>\n",
       "      <th>1</th>\n",
       "      <td>20</td>\n",
       "      <td>20</td>\n",
       "    </tr>\n",
       "    <tr>\n",
       "      <th>2</th>\n",
       "      <td>30</td>\n",
       "      <td>30</td>\n",
       "    </tr>\n",
       "    <tr>\n",
       "      <th>3</th>\n",
       "      <td>50</td>\n",
       "      <td>50</td>\n",
       "    </tr>\n",
       "    <tr>\n",
       "      <th>4</th>\n",
       "      <td>75</td>\n",
       "      <td>75</td>\n",
       "    </tr>\n",
       "    <tr>\n",
       "      <th>5</th>\n",
       "      <td>90</td>\n",
       "      <td>90</td>\n",
       "    </tr>\n",
       "    <tr>\n",
       "      <th>6</th>\n",
       "      <td>95</td>\n",
       "      <td>95</td>\n",
       "    </tr>\n",
       "  </tbody>\n",
       "</table>\n",
       "</div>"
      ],
      "text/plain": [
       "    0   1\n",
       "0  10  10\n",
       "1  20  20\n",
       "2  30  30\n",
       "3  50  50\n",
       "4  75  75\n",
       "5  90  90\n",
       "6  95  95"
      ]
     },
     "execution_count": 28,
     "metadata": {},
     "output_type": "execute_result"
    }
   ],
   "source": [
    "sample_df"
   ]
  },
  {
   "cell_type": "code",
   "execution_count": 29,
   "id": "aa2effeb",
   "metadata": {},
   "outputs": [],
   "source": [
    "sample_df.columns=['marks01','marks02'] # to change column names"
   ]
  },
  {
   "cell_type": "code",
   "execution_count": 30,
   "id": "79ccf802",
   "metadata": {},
   "outputs": [
    {
     "data": {
      "text/html": [
       "<div>\n",
       "<style scoped>\n",
       "    .dataframe tbody tr th:only-of-type {\n",
       "        vertical-align: middle;\n",
       "    }\n",
       "\n",
       "    .dataframe tbody tr th {\n",
       "        vertical-align: top;\n",
       "    }\n",
       "\n",
       "    .dataframe thead th {\n",
       "        text-align: right;\n",
       "    }\n",
       "</style>\n",
       "<table border=\"1\" class=\"dataframe\">\n",
       "  <thead>\n",
       "    <tr style=\"text-align: right;\">\n",
       "      <th></th>\n",
       "      <th>marks01</th>\n",
       "      <th>marks02</th>\n",
       "    </tr>\n",
       "  </thead>\n",
       "  <tbody>\n",
       "    <tr>\n",
       "      <th>0</th>\n",
       "      <td>10</td>\n",
       "      <td>10</td>\n",
       "    </tr>\n",
       "    <tr>\n",
       "      <th>1</th>\n",
       "      <td>20</td>\n",
       "      <td>20</td>\n",
       "    </tr>\n",
       "    <tr>\n",
       "      <th>2</th>\n",
       "      <td>30</td>\n",
       "      <td>30</td>\n",
       "    </tr>\n",
       "    <tr>\n",
       "      <th>3</th>\n",
       "      <td>50</td>\n",
       "      <td>50</td>\n",
       "    </tr>\n",
       "    <tr>\n",
       "      <th>4</th>\n",
       "      <td>75</td>\n",
       "      <td>75</td>\n",
       "    </tr>\n",
       "    <tr>\n",
       "      <th>5</th>\n",
       "      <td>90</td>\n",
       "      <td>90</td>\n",
       "    </tr>\n",
       "    <tr>\n",
       "      <th>6</th>\n",
       "      <td>95</td>\n",
       "      <td>95</td>\n",
       "    </tr>\n",
       "  </tbody>\n",
       "</table>\n",
       "</div>"
      ],
      "text/plain": [
       "   marks01  marks02\n",
       "0       10       10\n",
       "1       20       20\n",
       "2       30       30\n",
       "3       50       50\n",
       "4       75       75\n",
       "5       90       90\n",
       "6       95       95"
      ]
     },
     "execution_count": 30,
     "metadata": {},
     "output_type": "execute_result"
    }
   ],
   "source": [
    "sample_df"
   ]
  },
  {
   "cell_type": "code",
   "execution_count": 31,
   "id": "cb44f7af",
   "metadata": {},
   "outputs": [],
   "source": [
    "df=pd.read_csv(\"/Users/shivanshi/Downloads/q3.csv\")  # to read a csv file"
   ]
  },
  {
   "cell_type": "code",
   "execution_count": 32,
   "id": "a71c243c",
   "metadata": {},
   "outputs": [
    {
     "data": {
      "text/html": [
       "<div>\n",
       "<style scoped>\n",
       "    .dataframe tbody tr th:only-of-type {\n",
       "        vertical-align: middle;\n",
       "    }\n",
       "\n",
       "    .dataframe tbody tr th {\n",
       "        vertical-align: top;\n",
       "    }\n",
       "\n",
       "    .dataframe thead th {\n",
       "        text-align: right;\n",
       "    }\n",
       "</style>\n",
       "<table border=\"1\" class=\"dataframe\">\n",
       "  <thead>\n",
       "    <tr style=\"text-align: right;\">\n",
       "      <th></th>\n",
       "      <th>locationid</th>\n",
       "      <th>year</th>\n",
       "      <th>month</th>\n",
       "      <th>temp</th>\n",
       "      <th>latitude</th>\n",
       "      <th>longitude</th>\n",
       "      <th>stnelev</th>\n",
       "      <th>station</th>\n",
       "      <th>countryid</th>\n",
       "      <th>country</th>\n",
       "    </tr>\n",
       "  </thead>\n",
       "  <tbody>\n",
       "    <tr>\n",
       "      <th>0</th>\n",
       "      <td>USS0010K01S</td>\n",
       "      <td>2000</td>\n",
       "      <td>4</td>\n",
       "      <td>5.27</td>\n",
       "      <td>39.9000</td>\n",
       "      <td>-110.7500</td>\n",
       "      <td>2773.7</td>\n",
       "      <td>INDIAN_CANYON</td>\n",
       "      <td>US</td>\n",
       "      <td>United States</td>\n",
       "    </tr>\n",
       "    <tr>\n",
       "      <th>1</th>\n",
       "      <td>CI000085406</td>\n",
       "      <td>1940</td>\n",
       "      <td>5</td>\n",
       "      <td>18.04</td>\n",
       "      <td>-18.3500</td>\n",
       "      <td>-70.3330</td>\n",
       "      <td>58.0</td>\n",
       "      <td>ARICA</td>\n",
       "      <td>CI</td>\n",
       "      <td>Chile</td>\n",
       "    </tr>\n",
       "    <tr>\n",
       "      <th>2</th>\n",
       "      <td>USC00036376</td>\n",
       "      <td>2013</td>\n",
       "      <td>12</td>\n",
       "      <td>6.22</td>\n",
       "      <td>34.3703</td>\n",
       "      <td>-91.1242</td>\n",
       "      <td>61.0</td>\n",
       "      <td>SAINT_CHARLES</td>\n",
       "      <td>US</td>\n",
       "      <td>United States</td>\n",
       "    </tr>\n",
       "    <tr>\n",
       "      <th>3</th>\n",
       "      <td>ASN00024002</td>\n",
       "      <td>1963</td>\n",
       "      <td>2</td>\n",
       "      <td>22.93</td>\n",
       "      <td>-34.2833</td>\n",
       "      <td>140.6000</td>\n",
       "      <td>65.5</td>\n",
       "      <td>BERRI_IRRIGATION</td>\n",
       "      <td>AS</td>\n",
       "      <td>Australia</td>\n",
       "    </tr>\n",
       "    <tr>\n",
       "      <th>4</th>\n",
       "      <td>ASN00028007</td>\n",
       "      <td>2001</td>\n",
       "      <td>11</td>\n",
       "      <td>NaN</td>\n",
       "      <td>-14.7803</td>\n",
       "      <td>143.5036</td>\n",
       "      <td>79.4</td>\n",
       "      <td>MUSGRAVE</td>\n",
       "      <td>AS</td>\n",
       "      <td>Australia</td>\n",
       "    </tr>\n",
       "  </tbody>\n",
       "</table>\n",
       "</div>"
      ],
      "text/plain": [
       "    locationid  year  month   temp  latitude  longitude  stnelev  \\\n",
       "0  USS0010K01S  2000      4   5.27   39.9000  -110.7500   2773.7   \n",
       "1  CI000085406  1940      5  18.04  -18.3500   -70.3330     58.0   \n",
       "2  USC00036376  2013     12   6.22   34.3703   -91.1242     61.0   \n",
       "3  ASN00024002  1963      2  22.93  -34.2833   140.6000     65.5   \n",
       "4  ASN00028007  2001     11    NaN  -14.7803   143.5036     79.4   \n",
       "\n",
       "            station countryid        country  \n",
       "0     INDIAN_CANYON        US  United States  \n",
       "1             ARICA        CI          Chile  \n",
       "2     SAINT_CHARLES        US  United States  \n",
       "3  BERRI_IRRIGATION        AS      Australia  \n",
       "4          MUSGRAVE        AS      Australia  "
      ]
     },
     "execution_count": 32,
     "metadata": {},
     "output_type": "execute_result"
    }
   ],
   "source": [
    "df.head()  # access the first 5 records"
   ]
  },
  {
   "cell_type": "code",
   "execution_count": 33,
   "id": "8ba0f9ee",
   "metadata": {},
   "outputs": [
    {
     "data": {
      "text/html": [
       "<div>\n",
       "<style scoped>\n",
       "    .dataframe tbody tr th:only-of-type {\n",
       "        vertical-align: middle;\n",
       "    }\n",
       "\n",
       "    .dataframe tbody tr th {\n",
       "        vertical-align: top;\n",
       "    }\n",
       "\n",
       "    .dataframe thead th {\n",
       "        text-align: right;\n",
       "    }\n",
       "</style>\n",
       "<table border=\"1\" class=\"dataframe\">\n",
       "  <thead>\n",
       "    <tr style=\"text-align: right;\">\n",
       "      <th></th>\n",
       "      <th>locationid</th>\n",
       "      <th>year</th>\n",
       "      <th>month</th>\n",
       "      <th>temp</th>\n",
       "      <th>latitude</th>\n",
       "      <th>longitude</th>\n",
       "      <th>stnelev</th>\n",
       "      <th>station</th>\n",
       "      <th>countryid</th>\n",
       "      <th>country</th>\n",
       "    </tr>\n",
       "  </thead>\n",
       "  <tbody>\n",
       "    <tr>\n",
       "      <th>99995</th>\n",
       "      <td>MXXLT347415</td>\n",
       "      <td>1991</td>\n",
       "      <td>4</td>\n",
       "      <td>29.02</td>\n",
       "      <td>17.7800</td>\n",
       "      <td>-96.3100</td>\n",
       "      <td>65.0</td>\n",
       "      <td>VALLE_NACIONAL_VALLE</td>\n",
       "      <td>MX</td>\n",
       "      <td>Mexico</td>\n",
       "    </tr>\n",
       "    <tr>\n",
       "      <th>99996</th>\n",
       "      <td>RSM00032287</td>\n",
       "      <td>1991</td>\n",
       "      <td>11</td>\n",
       "      <td>-2.81</td>\n",
       "      <td>57.0800</td>\n",
       "      <td>156.7000</td>\n",
       "      <td>3.0</td>\n",
       "      <td>UST_HAIRYUZOVO</td>\n",
       "      <td>RS</td>\n",
       "      <td>Russia</td>\n",
       "    </tr>\n",
       "    <tr>\n",
       "      <th>99997</th>\n",
       "      <td>ARM00087166</td>\n",
       "      <td>1937</td>\n",
       "      <td>4</td>\n",
       "      <td>19.42</td>\n",
       "      <td>-27.4460</td>\n",
       "      <td>-58.7620</td>\n",
       "      <td>61.9</td>\n",
       "      <td>CORRIENTES</td>\n",
       "      <td>AR</td>\n",
       "      <td>Argentina</td>\n",
       "    </tr>\n",
       "    <tr>\n",
       "      <th>99998</th>\n",
       "      <td>CA006137361</td>\n",
       "      <td>1958</td>\n",
       "      <td>10</td>\n",
       "      <td>10.02</td>\n",
       "      <td>42.7833</td>\n",
       "      <td>-81.1667</td>\n",
       "      <td>236.0</td>\n",
       "      <td>ST_THOMAS</td>\n",
       "      <td>CA</td>\n",
       "      <td>Canada</td>\n",
       "    </tr>\n",
       "    <tr>\n",
       "      <th>99999</th>\n",
       "      <td>CA006137361</td>\n",
       "      <td>1966</td>\n",
       "      <td>1</td>\n",
       "      <td>-7.85</td>\n",
       "      <td>42.7833</td>\n",
       "      <td>-81.1667</td>\n",
       "      <td>236.0</td>\n",
       "      <td>ST_THOMAS</td>\n",
       "      <td>CA</td>\n",
       "      <td>Canada</td>\n",
       "    </tr>\n",
       "  </tbody>\n",
       "</table>\n",
       "</div>"
      ],
      "text/plain": [
       "        locationid  year  month   temp  latitude  longitude  stnelev  \\\n",
       "99995  MXXLT347415  1991      4  29.02   17.7800   -96.3100     65.0   \n",
       "99996  RSM00032287  1991     11  -2.81   57.0800   156.7000      3.0   \n",
       "99997  ARM00087166  1937      4  19.42  -27.4460   -58.7620     61.9   \n",
       "99998  CA006137361  1958     10  10.02   42.7833   -81.1667    236.0   \n",
       "99999  CA006137361  1966      1  -7.85   42.7833   -81.1667    236.0   \n",
       "\n",
       "                    station countryid    country  \n",
       "99995  VALLE_NACIONAL_VALLE        MX     Mexico  \n",
       "99996        UST_HAIRYUZOVO        RS     Russia  \n",
       "99997            CORRIENTES        AR  Argentina  \n",
       "99998             ST_THOMAS        CA     Canada  \n",
       "99999             ST_THOMAS        CA     Canada  "
      ]
     },
     "execution_count": 33,
     "metadata": {},
     "output_type": "execute_result"
    }
   ],
   "source": [
    "df.tail()  # access the last 5 records"
   ]
  },
  {
   "cell_type": "code",
   "execution_count": 35,
   "id": "7cff988d",
   "metadata": {},
   "outputs": [
    {
     "data": {
      "text/plain": [
       "0        United States\n",
       "1                Chile\n",
       "2        United States\n",
       "3            Australia\n",
       "4            Australia\n",
       "             ...      \n",
       "99995           Mexico\n",
       "99996           Russia\n",
       "99997        Argentina\n",
       "99998           Canada\n",
       "99999           Canada\n",
       "Name: country, Length: 100000, dtype: object"
      ]
     },
     "execution_count": 35,
     "metadata": {},
     "output_type": "execute_result"
    }
   ],
   "source": [
    "df['country']  # to access a particular column from a df"
   ]
  },
  {
   "cell_type": "markdown",
   "id": "cf4edd38",
   "metadata": {},
   "source": [
    "### This is a series because"
   ]
  },
  {
   "cell_type": "code",
   "execution_count": 36,
   "id": "b7750620",
   "metadata": {},
   "outputs": [
    {
     "data": {
      "text/plain": [
       "(100000, 10)"
      ]
     },
     "execution_count": 36,
     "metadata": {},
     "output_type": "execute_result"
    }
   ],
   "source": [
    "df.shape"
   ]
  },
  {
   "cell_type": "code",
   "execution_count": 37,
   "id": "b9ad0248",
   "metadata": {},
   "outputs": [
    {
     "data": {
      "text/plain": [
       "<bound method DataFrame.isna of         locationid  year  month   temp  latitude  longitude  stnelev  \\\n",
       "0      USS0010K01S  2000      4   5.27   39.9000  -110.7500   2773.7   \n",
       "1      CI000085406  1940      5  18.04  -18.3500   -70.3330     58.0   \n",
       "2      USC00036376  2013     12   6.22   34.3703   -91.1242     61.0   \n",
       "3      ASN00024002  1963      2  22.93  -34.2833   140.6000     65.5   \n",
       "4      ASN00028007  2001     11    NaN  -14.7803   143.5036     79.4   \n",
       "...            ...   ...    ...    ...       ...        ...      ...   \n",
       "99995  MXXLT347415  1991      4  29.02   17.7800   -96.3100     65.0   \n",
       "99996  RSM00032287  1991     11  -2.81   57.0800   156.7000      3.0   \n",
       "99997  ARM00087166  1937      4  19.42  -27.4460   -58.7620     61.9   \n",
       "99998  CA006137361  1958     10  10.02   42.7833   -81.1667    236.0   \n",
       "99999  CA006137361  1966      1  -7.85   42.7833   -81.1667    236.0   \n",
       "\n",
       "                    station countryid        country  \n",
       "0             INDIAN_CANYON        US  United States  \n",
       "1                     ARICA        CI          Chile  \n",
       "2             SAINT_CHARLES        US  United States  \n",
       "3          BERRI_IRRIGATION        AS      Australia  \n",
       "4                  MUSGRAVE        AS      Australia  \n",
       "...                     ...       ...            ...  \n",
       "99995  VALLE_NACIONAL_VALLE        MX         Mexico  \n",
       "99996        UST_HAIRYUZOVO        RS         Russia  \n",
       "99997            CORRIENTES        AR      Argentina  \n",
       "99998             ST_THOMAS        CA         Canada  \n",
       "99999             ST_THOMAS        CA         Canada  \n",
       "\n",
       "[100000 rows x 10 columns]>"
      ]
     },
     "execution_count": 37,
     "metadata": {},
     "output_type": "execute_result"
    }
   ],
   "source": [
    "df.isna"
   ]
  },
  {
   "cell_type": "code",
   "execution_count": 38,
   "id": "dbedb2d4",
   "metadata": {},
   "outputs": [
    {
     "data": {
      "text/html": [
       "<div>\n",
       "<style scoped>\n",
       "    .dataframe tbody tr th:only-of-type {\n",
       "        vertical-align: middle;\n",
       "    }\n",
       "\n",
       "    .dataframe tbody tr th {\n",
       "        vertical-align: top;\n",
       "    }\n",
       "\n",
       "    .dataframe thead th {\n",
       "        text-align: right;\n",
       "    }\n",
       "</style>\n",
       "<table border=\"1\" class=\"dataframe\">\n",
       "  <thead>\n",
       "    <tr style=\"text-align: right;\">\n",
       "      <th></th>\n",
       "      <th>locationid</th>\n",
       "      <th>year</th>\n",
       "      <th>month</th>\n",
       "      <th>temp</th>\n",
       "      <th>latitude</th>\n",
       "      <th>longitude</th>\n",
       "      <th>stnelev</th>\n",
       "      <th>station</th>\n",
       "      <th>countryid</th>\n",
       "      <th>country</th>\n",
       "    </tr>\n",
       "  </thead>\n",
       "  <tbody>\n",
       "    <tr>\n",
       "      <th>0</th>\n",
       "      <td>False</td>\n",
       "      <td>False</td>\n",
       "      <td>False</td>\n",
       "      <td>False</td>\n",
       "      <td>False</td>\n",
       "      <td>False</td>\n",
       "      <td>False</td>\n",
       "      <td>False</td>\n",
       "      <td>False</td>\n",
       "      <td>False</td>\n",
       "    </tr>\n",
       "    <tr>\n",
       "      <th>1</th>\n",
       "      <td>False</td>\n",
       "      <td>False</td>\n",
       "      <td>False</td>\n",
       "      <td>False</td>\n",
       "      <td>False</td>\n",
       "      <td>False</td>\n",
       "      <td>False</td>\n",
       "      <td>False</td>\n",
       "      <td>False</td>\n",
       "      <td>False</td>\n",
       "    </tr>\n",
       "    <tr>\n",
       "      <th>2</th>\n",
       "      <td>False</td>\n",
       "      <td>False</td>\n",
       "      <td>False</td>\n",
       "      <td>False</td>\n",
       "      <td>False</td>\n",
       "      <td>False</td>\n",
       "      <td>False</td>\n",
       "      <td>False</td>\n",
       "      <td>False</td>\n",
       "      <td>False</td>\n",
       "    </tr>\n",
       "    <tr>\n",
       "      <th>3</th>\n",
       "      <td>False</td>\n",
       "      <td>False</td>\n",
       "      <td>False</td>\n",
       "      <td>False</td>\n",
       "      <td>False</td>\n",
       "      <td>False</td>\n",
       "      <td>False</td>\n",
       "      <td>False</td>\n",
       "      <td>False</td>\n",
       "      <td>False</td>\n",
       "    </tr>\n",
       "    <tr>\n",
       "      <th>4</th>\n",
       "      <td>False</td>\n",
       "      <td>False</td>\n",
       "      <td>False</td>\n",
       "      <td>True</td>\n",
       "      <td>False</td>\n",
       "      <td>False</td>\n",
       "      <td>False</td>\n",
       "      <td>False</td>\n",
       "      <td>False</td>\n",
       "      <td>False</td>\n",
       "    </tr>\n",
       "    <tr>\n",
       "      <th>...</th>\n",
       "      <td>...</td>\n",
       "      <td>...</td>\n",
       "      <td>...</td>\n",
       "      <td>...</td>\n",
       "      <td>...</td>\n",
       "      <td>...</td>\n",
       "      <td>...</td>\n",
       "      <td>...</td>\n",
       "      <td>...</td>\n",
       "      <td>...</td>\n",
       "    </tr>\n",
       "    <tr>\n",
       "      <th>99995</th>\n",
       "      <td>False</td>\n",
       "      <td>False</td>\n",
       "      <td>False</td>\n",
       "      <td>False</td>\n",
       "      <td>False</td>\n",
       "      <td>False</td>\n",
       "      <td>False</td>\n",
       "      <td>False</td>\n",
       "      <td>False</td>\n",
       "      <td>False</td>\n",
       "    </tr>\n",
       "    <tr>\n",
       "      <th>99996</th>\n",
       "      <td>False</td>\n",
       "      <td>False</td>\n",
       "      <td>False</td>\n",
       "      <td>False</td>\n",
       "      <td>False</td>\n",
       "      <td>False</td>\n",
       "      <td>False</td>\n",
       "      <td>False</td>\n",
       "      <td>False</td>\n",
       "      <td>False</td>\n",
       "    </tr>\n",
       "    <tr>\n",
       "      <th>99997</th>\n",
       "      <td>False</td>\n",
       "      <td>False</td>\n",
       "      <td>False</td>\n",
       "      <td>False</td>\n",
       "      <td>False</td>\n",
       "      <td>False</td>\n",
       "      <td>False</td>\n",
       "      <td>False</td>\n",
       "      <td>False</td>\n",
       "      <td>False</td>\n",
       "    </tr>\n",
       "    <tr>\n",
       "      <th>99998</th>\n",
       "      <td>False</td>\n",
       "      <td>False</td>\n",
       "      <td>False</td>\n",
       "      <td>False</td>\n",
       "      <td>False</td>\n",
       "      <td>False</td>\n",
       "      <td>False</td>\n",
       "      <td>False</td>\n",
       "      <td>False</td>\n",
       "      <td>False</td>\n",
       "    </tr>\n",
       "    <tr>\n",
       "      <th>99999</th>\n",
       "      <td>False</td>\n",
       "      <td>False</td>\n",
       "      <td>False</td>\n",
       "      <td>False</td>\n",
       "      <td>False</td>\n",
       "      <td>False</td>\n",
       "      <td>False</td>\n",
       "      <td>False</td>\n",
       "      <td>False</td>\n",
       "      <td>False</td>\n",
       "    </tr>\n",
       "  </tbody>\n",
       "</table>\n",
       "<p>100000 rows × 10 columns</p>\n",
       "</div>"
      ],
      "text/plain": [
       "       locationid   year  month   temp  latitude  longitude  stnelev  station  \\\n",
       "0           False  False  False  False     False      False    False    False   \n",
       "1           False  False  False  False     False      False    False    False   \n",
       "2           False  False  False  False     False      False    False    False   \n",
       "3           False  False  False  False     False      False    False    False   \n",
       "4           False  False  False   True     False      False    False    False   \n",
       "...           ...    ...    ...    ...       ...        ...      ...      ...   \n",
       "99995       False  False  False  False     False      False    False    False   \n",
       "99996       False  False  False  False     False      False    False    False   \n",
       "99997       False  False  False  False     False      False    False    False   \n",
       "99998       False  False  False  False     False      False    False    False   \n",
       "99999       False  False  False  False     False      False    False    False   \n",
       "\n",
       "       countryid  country  \n",
       "0          False    False  \n",
       "1          False    False  \n",
       "2          False    False  \n",
       "3          False    False  \n",
       "4          False    False  \n",
       "...          ...      ...  \n",
       "99995      False    False  \n",
       "99996      False    False  \n",
       "99997      False    False  \n",
       "99998      False    False  \n",
       "99999      False    False  \n",
       "\n",
       "[100000 rows x 10 columns]"
      ]
     },
     "execution_count": 38,
     "metadata": {},
     "output_type": "execute_result"
    }
   ],
   "source": [
    "df.isna()"
   ]
  },
  {
   "cell_type": "code",
   "execution_count": 39,
   "id": "f74217ec",
   "metadata": {},
   "outputs": [
    {
     "data": {
      "text/plain": [
       "locationid        0\n",
       "year              0\n",
       "month             0\n",
       "temp          14446\n",
       "latitude          0\n",
       "longitude         0\n",
       "stnelev           0\n",
       "station           0\n",
       "countryid         0\n",
       "country           5\n",
       "dtype: int64"
      ]
     },
     "execution_count": 39,
     "metadata": {},
     "output_type": "execute_result"
    }
   ],
   "source": [
    "df.isna().sum()"
   ]
  },
  {
   "cell_type": "code",
   "execution_count": 40,
   "id": "8cd12b13",
   "metadata": {},
   "outputs": [
    {
     "data": {
      "text/plain": [
       "pandas.core.frame.DataFrame"
      ]
     },
     "execution_count": 40,
     "metadata": {},
     "output_type": "execute_result"
    }
   ],
   "source": [
    "type(df)"
   ]
  },
  {
   "cell_type": "code",
   "execution_count": 42,
   "id": "7c4b794f",
   "metadata": {},
   "outputs": [
    {
     "data": {
      "text/plain": [
       "pandas.core.series.Series"
      ]
     },
     "execution_count": 42,
     "metadata": {},
     "output_type": "execute_result"
    }
   ],
   "source": [
    "type(df['temp'])"
   ]
  },
  {
   "cell_type": "code",
   "execution_count": 43,
   "id": "44a72d52",
   "metadata": {},
   "outputs": [
    {
     "data": {
      "text/plain": [
       "pandas.core.series.Series"
      ]
     },
     "execution_count": 43,
     "metadata": {},
     "output_type": "execute_result"
    }
   ],
   "source": [
    "type(df['country'])"
   ]
  },
  {
   "cell_type": "code",
   "execution_count": 45,
   "id": "754eda6e",
   "metadata": {},
   "outputs": [
    {
     "data": {
      "text/html": [
       "<div>\n",
       "<style scoped>\n",
       "    .dataframe tbody tr th:only-of-type {\n",
       "        vertical-align: middle;\n",
       "    }\n",
       "\n",
       "    .dataframe tbody tr th {\n",
       "        vertical-align: top;\n",
       "    }\n",
       "\n",
       "    .dataframe thead th {\n",
       "        text-align: right;\n",
       "    }\n",
       "</style>\n",
       "<table border=\"1\" class=\"dataframe\">\n",
       "  <thead>\n",
       "    <tr style=\"text-align: right;\">\n",
       "      <th></th>\n",
       "      <th>locationid</th>\n",
       "      <th>year</th>\n",
       "      <th>month</th>\n",
       "      <th>temp</th>\n",
       "      <th>latitude</th>\n",
       "      <th>longitude</th>\n",
       "      <th>stnelev</th>\n",
       "      <th>station</th>\n",
       "      <th>countryid</th>\n",
       "      <th>country</th>\n",
       "    </tr>\n",
       "  </thead>\n",
       "  <tbody>\n",
       "    <tr>\n",
       "      <th>0</th>\n",
       "      <td>USS0010K01S</td>\n",
       "      <td>2000</td>\n",
       "      <td>4</td>\n",
       "      <td>5.27</td>\n",
       "      <td>39.9000</td>\n",
       "      <td>-110.7500</td>\n",
       "      <td>2773.7</td>\n",
       "      <td>INDIAN_CANYON</td>\n",
       "      <td>US</td>\n",
       "      <td>United States</td>\n",
       "    </tr>\n",
       "    <tr>\n",
       "      <th>1</th>\n",
       "      <td>CI000085406</td>\n",
       "      <td>1940</td>\n",
       "      <td>5</td>\n",
       "      <td>18.04</td>\n",
       "      <td>-18.3500</td>\n",
       "      <td>-70.3330</td>\n",
       "      <td>58.0</td>\n",
       "      <td>ARICA</td>\n",
       "      <td>CI</td>\n",
       "      <td>Chile</td>\n",
       "    </tr>\n",
       "    <tr>\n",
       "      <th>2</th>\n",
       "      <td>USC00036376</td>\n",
       "      <td>2013</td>\n",
       "      <td>12</td>\n",
       "      <td>6.22</td>\n",
       "      <td>34.3703</td>\n",
       "      <td>-91.1242</td>\n",
       "      <td>61.0</td>\n",
       "      <td>SAINT_CHARLES</td>\n",
       "      <td>US</td>\n",
       "      <td>United States</td>\n",
       "    </tr>\n",
       "    <tr>\n",
       "      <th>3</th>\n",
       "      <td>ASN00024002</td>\n",
       "      <td>1963</td>\n",
       "      <td>2</td>\n",
       "      <td>22.93</td>\n",
       "      <td>-34.2833</td>\n",
       "      <td>140.6000</td>\n",
       "      <td>65.5</td>\n",
       "      <td>BERRI_IRRIGATION</td>\n",
       "      <td>AS</td>\n",
       "      <td>Australia</td>\n",
       "    </tr>\n",
       "    <tr>\n",
       "      <th>4</th>\n",
       "      <td>ASN00028007</td>\n",
       "      <td>2001</td>\n",
       "      <td>11</td>\n",
       "      <td>NaN</td>\n",
       "      <td>-14.7803</td>\n",
       "      <td>143.5036</td>\n",
       "      <td>79.4</td>\n",
       "      <td>MUSGRAVE</td>\n",
       "      <td>AS</td>\n",
       "      <td>Australia</td>\n",
       "    </tr>\n",
       "    <tr>\n",
       "      <th>...</th>\n",
       "      <td>...</td>\n",
       "      <td>...</td>\n",
       "      <td>...</td>\n",
       "      <td>...</td>\n",
       "      <td>...</td>\n",
       "      <td>...</td>\n",
       "      <td>...</td>\n",
       "      <td>...</td>\n",
       "      <td>...</td>\n",
       "      <td>...</td>\n",
       "    </tr>\n",
       "    <tr>\n",
       "      <th>99995</th>\n",
       "      <td>MXXLT347415</td>\n",
       "      <td>1991</td>\n",
       "      <td>4</td>\n",
       "      <td>29.02</td>\n",
       "      <td>17.7800</td>\n",
       "      <td>-96.3100</td>\n",
       "      <td>65.0</td>\n",
       "      <td>VALLE_NACIONAL_VALLE</td>\n",
       "      <td>MX</td>\n",
       "      <td>Mexico</td>\n",
       "    </tr>\n",
       "    <tr>\n",
       "      <th>99996</th>\n",
       "      <td>RSM00032287</td>\n",
       "      <td>1991</td>\n",
       "      <td>11</td>\n",
       "      <td>-2.81</td>\n",
       "      <td>57.0800</td>\n",
       "      <td>156.7000</td>\n",
       "      <td>3.0</td>\n",
       "      <td>UST_HAIRYUZOVO</td>\n",
       "      <td>RS</td>\n",
       "      <td>Russia</td>\n",
       "    </tr>\n",
       "    <tr>\n",
       "      <th>99997</th>\n",
       "      <td>ARM00087166</td>\n",
       "      <td>1937</td>\n",
       "      <td>4</td>\n",
       "      <td>19.42</td>\n",
       "      <td>-27.4460</td>\n",
       "      <td>-58.7620</td>\n",
       "      <td>61.9</td>\n",
       "      <td>CORRIENTES</td>\n",
       "      <td>AR</td>\n",
       "      <td>Argentina</td>\n",
       "    </tr>\n",
       "    <tr>\n",
       "      <th>99998</th>\n",
       "      <td>CA006137361</td>\n",
       "      <td>1958</td>\n",
       "      <td>10</td>\n",
       "      <td>10.02</td>\n",
       "      <td>42.7833</td>\n",
       "      <td>-81.1667</td>\n",
       "      <td>236.0</td>\n",
       "      <td>ST_THOMAS</td>\n",
       "      <td>CA</td>\n",
       "      <td>Canada</td>\n",
       "    </tr>\n",
       "    <tr>\n",
       "      <th>99999</th>\n",
       "      <td>CA006137361</td>\n",
       "      <td>1966</td>\n",
       "      <td>1</td>\n",
       "      <td>-7.85</td>\n",
       "      <td>42.7833</td>\n",
       "      <td>-81.1667</td>\n",
       "      <td>236.0</td>\n",
       "      <td>ST_THOMAS</td>\n",
       "      <td>CA</td>\n",
       "      <td>Canada</td>\n",
       "    </tr>\n",
       "  </tbody>\n",
       "</table>\n",
       "<p>100000 rows × 10 columns</p>\n",
       "</div>"
      ],
      "text/plain": [
       "        locationid  year  month   temp  latitude  longitude  stnelev  \\\n",
       "0      USS0010K01S  2000      4   5.27   39.9000  -110.7500   2773.7   \n",
       "1      CI000085406  1940      5  18.04  -18.3500   -70.3330     58.0   \n",
       "2      USC00036376  2013     12   6.22   34.3703   -91.1242     61.0   \n",
       "3      ASN00024002  1963      2  22.93  -34.2833   140.6000     65.5   \n",
       "4      ASN00028007  2001     11    NaN  -14.7803   143.5036     79.4   \n",
       "...            ...   ...    ...    ...       ...        ...      ...   \n",
       "99995  MXXLT347415  1991      4  29.02   17.7800   -96.3100     65.0   \n",
       "99996  RSM00032287  1991     11  -2.81   57.0800   156.7000      3.0   \n",
       "99997  ARM00087166  1937      4  19.42  -27.4460   -58.7620     61.9   \n",
       "99998  CA006137361  1958     10  10.02   42.7833   -81.1667    236.0   \n",
       "99999  CA006137361  1966      1  -7.85   42.7833   -81.1667    236.0   \n",
       "\n",
       "                    station countryid        country  \n",
       "0             INDIAN_CANYON        US  United States  \n",
       "1                     ARICA        CI          Chile  \n",
       "2             SAINT_CHARLES        US  United States  \n",
       "3          BERRI_IRRIGATION        AS      Australia  \n",
       "4                  MUSGRAVE        AS      Australia  \n",
       "...                     ...       ...            ...  \n",
       "99995  VALLE_NACIONAL_VALLE        MX         Mexico  \n",
       "99996        UST_HAIRYUZOVO        RS         Russia  \n",
       "99997            CORRIENTES        AR      Argentina  \n",
       "99998             ST_THOMAS        CA         Canada  \n",
       "99999             ST_THOMAS        CA         Canada  \n",
       "\n",
       "[100000 rows x 10 columns]"
      ]
     },
     "execution_count": 45,
     "metadata": {},
     "output_type": "execute_result"
    }
   ],
   "source": [
    "df.fillna(np.NaN)"
   ]
  },
  {
   "cell_type": "markdown",
   "id": "55911d84",
   "metadata": {},
   "source": [
    "### The difference between the below two is, first one is a list of columns, while the second one is just columnnames and it does not works because the system doesnot understands the second format"
   ]
  },
  {
   "cell_type": "code",
   "execution_count": 47,
   "id": "019fa146",
   "metadata": {},
   "outputs": [
    {
     "data": {
      "text/html": [
       "<div>\n",
       "<style scoped>\n",
       "    .dataframe tbody tr th:only-of-type {\n",
       "        vertical-align: middle;\n",
       "    }\n",
       "\n",
       "    .dataframe tbody tr th {\n",
       "        vertical-align: top;\n",
       "    }\n",
       "\n",
       "    .dataframe thead th {\n",
       "        text-align: right;\n",
       "    }\n",
       "</style>\n",
       "<table border=\"1\" class=\"dataframe\">\n",
       "  <thead>\n",
       "    <tr style=\"text-align: right;\">\n",
       "      <th></th>\n",
       "      <th>countryid</th>\n",
       "      <th>country</th>\n",
       "    </tr>\n",
       "  </thead>\n",
       "  <tbody>\n",
       "    <tr>\n",
       "      <th>0</th>\n",
       "      <td>US</td>\n",
       "      <td>United States</td>\n",
       "    </tr>\n",
       "    <tr>\n",
       "      <th>1</th>\n",
       "      <td>CI</td>\n",
       "      <td>Chile</td>\n",
       "    </tr>\n",
       "    <tr>\n",
       "      <th>2</th>\n",
       "      <td>US</td>\n",
       "      <td>United States</td>\n",
       "    </tr>\n",
       "    <tr>\n",
       "      <th>3</th>\n",
       "      <td>AS</td>\n",
       "      <td>Australia</td>\n",
       "    </tr>\n",
       "    <tr>\n",
       "      <th>4</th>\n",
       "      <td>AS</td>\n",
       "      <td>Australia</td>\n",
       "    </tr>\n",
       "    <tr>\n",
       "      <th>...</th>\n",
       "      <td>...</td>\n",
       "      <td>...</td>\n",
       "    </tr>\n",
       "    <tr>\n",
       "      <th>99995</th>\n",
       "      <td>MX</td>\n",
       "      <td>Mexico</td>\n",
       "    </tr>\n",
       "    <tr>\n",
       "      <th>99996</th>\n",
       "      <td>RS</td>\n",
       "      <td>Russia</td>\n",
       "    </tr>\n",
       "    <tr>\n",
       "      <th>99997</th>\n",
       "      <td>AR</td>\n",
       "      <td>Argentina</td>\n",
       "    </tr>\n",
       "    <tr>\n",
       "      <th>99998</th>\n",
       "      <td>CA</td>\n",
       "      <td>Canada</td>\n",
       "    </tr>\n",
       "    <tr>\n",
       "      <th>99999</th>\n",
       "      <td>CA</td>\n",
       "      <td>Canada</td>\n",
       "    </tr>\n",
       "  </tbody>\n",
       "</table>\n",
       "<p>100000 rows × 2 columns</p>\n",
       "</div>"
      ],
      "text/plain": [
       "      countryid        country\n",
       "0            US  United States\n",
       "1            CI          Chile\n",
       "2            US  United States\n",
       "3            AS      Australia\n",
       "4            AS      Australia\n",
       "...         ...            ...\n",
       "99995        MX         Mexico\n",
       "99996        RS         Russia\n",
       "99997        AR      Argentina\n",
       "99998        CA         Canada\n",
       "99999        CA         Canada\n",
       "\n",
       "[100000 rows x 2 columns]"
      ]
     },
     "execution_count": 47,
     "metadata": {},
     "output_type": "execute_result"
    }
   ],
   "source": [
    "df[['countryid','country']]"
   ]
  },
  {
   "cell_type": "code",
   "execution_count": 48,
   "id": "a35c9d25",
   "metadata": {},
   "outputs": [
    {
     "ename": "KeyError",
     "evalue": "('countryid', 'country')",
     "output_type": "error",
     "traceback": [
      "\u001b[0;31m---------------------------------------------------------------------------\u001b[0m",
      "\u001b[0;31mKeyError\u001b[0m                                  Traceback (most recent call last)",
      "File \u001b[0;32m/Library/Frameworks/Python.framework/Versions/3.9/lib/python3.9/site-packages/pandas/core/indexes/base.py:3621\u001b[0m, in \u001b[0;36mIndex.get_loc\u001b[0;34m(self, key, method, tolerance)\u001b[0m\n\u001b[1;32m   3620\u001b[0m \u001b[38;5;28;01mtry\u001b[39;00m:\n\u001b[0;32m-> 3621\u001b[0m     \u001b[38;5;28;01mreturn\u001b[39;00m \u001b[38;5;28;43mself\u001b[39;49m\u001b[38;5;241;43m.\u001b[39;49m\u001b[43m_engine\u001b[49m\u001b[38;5;241;43m.\u001b[39;49m\u001b[43mget_loc\u001b[49m\u001b[43m(\u001b[49m\u001b[43mcasted_key\u001b[49m\u001b[43m)\u001b[49m\n\u001b[1;32m   3622\u001b[0m \u001b[38;5;28;01mexcept\u001b[39;00m \u001b[38;5;167;01mKeyError\u001b[39;00m \u001b[38;5;28;01mas\u001b[39;00m err:\n",
      "File \u001b[0;32m/Library/Frameworks/Python.framework/Versions/3.9/lib/python3.9/site-packages/pandas/_libs/index.pyx:136\u001b[0m, in \u001b[0;36mpandas._libs.index.IndexEngine.get_loc\u001b[0;34m()\u001b[0m\n",
      "File \u001b[0;32m/Library/Frameworks/Python.framework/Versions/3.9/lib/python3.9/site-packages/pandas/_libs/index.pyx:163\u001b[0m, in \u001b[0;36mpandas._libs.index.IndexEngine.get_loc\u001b[0;34m()\u001b[0m\n",
      "File \u001b[0;32mpandas/_libs/hashtable_class_helper.pxi:5198\u001b[0m, in \u001b[0;36mpandas._libs.hashtable.PyObjectHashTable.get_item\u001b[0;34m()\u001b[0m\n",
      "File \u001b[0;32mpandas/_libs/hashtable_class_helper.pxi:5206\u001b[0m, in \u001b[0;36mpandas._libs.hashtable.PyObjectHashTable.get_item\u001b[0;34m()\u001b[0m\n",
      "\u001b[0;31mKeyError\u001b[0m: ('countryid', 'country')",
      "\nThe above exception was the direct cause of the following exception:\n",
      "\u001b[0;31mKeyError\u001b[0m                                  Traceback (most recent call last)",
      "Input \u001b[0;32mIn [48]\u001b[0m, in \u001b[0;36m<module>\u001b[0;34m\u001b[0m\n\u001b[0;32m----> 1\u001b[0m \u001b[43mdf\u001b[49m\u001b[43m[\u001b[49m\u001b[38;5;124;43m'\u001b[39;49m\u001b[38;5;124;43mcountryid\u001b[39;49m\u001b[38;5;124;43m'\u001b[39;49m\u001b[43m,\u001b[49m\u001b[38;5;124;43m'\u001b[39;49m\u001b[38;5;124;43mcountry\u001b[39;49m\u001b[38;5;124;43m'\u001b[39;49m\u001b[43m]\u001b[49m\n",
      "File \u001b[0;32m/Library/Frameworks/Python.framework/Versions/3.9/lib/python3.9/site-packages/pandas/core/frame.py:3505\u001b[0m, in \u001b[0;36mDataFrame.__getitem__\u001b[0;34m(self, key)\u001b[0m\n\u001b[1;32m   3503\u001b[0m \u001b[38;5;28;01mif\u001b[39;00m \u001b[38;5;28mself\u001b[39m\u001b[38;5;241m.\u001b[39mcolumns\u001b[38;5;241m.\u001b[39mnlevels \u001b[38;5;241m>\u001b[39m \u001b[38;5;241m1\u001b[39m:\n\u001b[1;32m   3504\u001b[0m     \u001b[38;5;28;01mreturn\u001b[39;00m \u001b[38;5;28mself\u001b[39m\u001b[38;5;241m.\u001b[39m_getitem_multilevel(key)\n\u001b[0;32m-> 3505\u001b[0m indexer \u001b[38;5;241m=\u001b[39m \u001b[38;5;28;43mself\u001b[39;49m\u001b[38;5;241;43m.\u001b[39;49m\u001b[43mcolumns\u001b[49m\u001b[38;5;241;43m.\u001b[39;49m\u001b[43mget_loc\u001b[49m\u001b[43m(\u001b[49m\u001b[43mkey\u001b[49m\u001b[43m)\u001b[49m\n\u001b[1;32m   3506\u001b[0m \u001b[38;5;28;01mif\u001b[39;00m is_integer(indexer):\n\u001b[1;32m   3507\u001b[0m     indexer \u001b[38;5;241m=\u001b[39m [indexer]\n",
      "File \u001b[0;32m/Library/Frameworks/Python.framework/Versions/3.9/lib/python3.9/site-packages/pandas/core/indexes/base.py:3623\u001b[0m, in \u001b[0;36mIndex.get_loc\u001b[0;34m(self, key, method, tolerance)\u001b[0m\n\u001b[1;32m   3621\u001b[0m     \u001b[38;5;28;01mreturn\u001b[39;00m \u001b[38;5;28mself\u001b[39m\u001b[38;5;241m.\u001b[39m_engine\u001b[38;5;241m.\u001b[39mget_loc(casted_key)\n\u001b[1;32m   3622\u001b[0m \u001b[38;5;28;01mexcept\u001b[39;00m \u001b[38;5;167;01mKeyError\u001b[39;00m \u001b[38;5;28;01mas\u001b[39;00m err:\n\u001b[0;32m-> 3623\u001b[0m     \u001b[38;5;28;01mraise\u001b[39;00m \u001b[38;5;167;01mKeyError\u001b[39;00m(key) \u001b[38;5;28;01mfrom\u001b[39;00m \u001b[38;5;21;01merr\u001b[39;00m\n\u001b[1;32m   3624\u001b[0m \u001b[38;5;28;01mexcept\u001b[39;00m \u001b[38;5;167;01mTypeError\u001b[39;00m:\n\u001b[1;32m   3625\u001b[0m     \u001b[38;5;66;03m# If we have a listlike key, _check_indexing_error will raise\u001b[39;00m\n\u001b[1;32m   3626\u001b[0m     \u001b[38;5;66;03m#  InvalidIndexError. Otherwise we fall through and re-raise\u001b[39;00m\n\u001b[1;32m   3627\u001b[0m     \u001b[38;5;66;03m#  the TypeError.\u001b[39;00m\n\u001b[1;32m   3628\u001b[0m     \u001b[38;5;28mself\u001b[39m\u001b[38;5;241m.\u001b[39m_check_indexing_error(key)\n",
      "\u001b[0;31mKeyError\u001b[0m: ('countryid', 'country')"
     ]
    }
   ],
   "source": [
    "df['countryid','country'] #error statement"
   ]
  },
  {
   "cell_type": "markdown",
   "id": "54410794",
   "metadata": {},
   "source": [
    "## Dictionaries/syntax-{key1:value1,key2:value2} / dict()"
   ]
  },
  {
   "cell_type": "code",
   "execution_count": 49,
   "id": "eff78ad2",
   "metadata": {},
   "outputs": [
    {
     "data": {
      "text/plain": [
       "['A', 'B', 'C', 'D', 'E', 'F', 'G']"
      ]
     },
     "execution_count": 49,
     "metadata": {},
     "output_type": "execute_result"
    }
   ],
   "source": [
    "list('ABCDEFG') # converts a string to list (Exclusive to Python)"
   ]
  },
  {
   "cell_type": "code",
   "execution_count": 50,
   "id": "aa7bcfec",
   "metadata": {},
   "outputs": [],
   "source": [
    "s=list('ABCDEFG')"
   ]
  },
  {
   "cell_type": "code",
   "execution_count": 63,
   "id": "926246b0",
   "metadata": {},
   "outputs": [],
   "source": [
    "sample_dict = {'Sno':s, 'marks':marks}"
   ]
  },
  {
   "cell_type": "code",
   "execution_count": 64,
   "id": "ccbf64ab",
   "metadata": {},
   "outputs": [
    {
     "data": {
      "text/plain": [
       "{'Sno': ['A', 'B', 'C', 'D', 'E', 'F', 'G'],\n",
       " 'marks': [10, 20, 30, 50, 75, 90, 95]}"
      ]
     },
     "execution_count": 64,
     "metadata": {},
     "output_type": "execute_result"
    }
   ],
   "source": [
    "sample_dict"
   ]
  },
  {
   "cell_type": "code",
   "execution_count": 54,
   "id": "1339d19a",
   "metadata": {},
   "outputs": [
    {
     "data": {
      "text/plain": [
       "0         True\n",
       "1         True\n",
       "2         True\n",
       "3        False\n",
       "4         True\n",
       "         ...  \n",
       "99995     True\n",
       "99996     True\n",
       "99997     True\n",
       "99998     True\n",
       "99999    False\n",
       "Name: month, Length: 100000, dtype: bool"
      ]
     },
     "execution_count": 54,
     "metadata": {},
     "output_type": "execute_result"
    }
   ],
   "source": [
    "df['month']>3 "
   ]
  },
  {
   "cell_type": "code",
   "execution_count": 56,
   "id": "07c17851",
   "metadata": {},
   "outputs": [
    {
     "data": {
      "text/html": [
       "<div>\n",
       "<style scoped>\n",
       "    .dataframe tbody tr th:only-of-type {\n",
       "        vertical-align: middle;\n",
       "    }\n",
       "\n",
       "    .dataframe tbody tr th {\n",
       "        vertical-align: top;\n",
       "    }\n",
       "\n",
       "    .dataframe thead th {\n",
       "        text-align: right;\n",
       "    }\n",
       "</style>\n",
       "<table border=\"1\" class=\"dataframe\">\n",
       "  <thead>\n",
       "    <tr style=\"text-align: right;\">\n",
       "      <th></th>\n",
       "      <th>locationid</th>\n",
       "      <th>year</th>\n",
       "      <th>month</th>\n",
       "      <th>temp</th>\n",
       "      <th>latitude</th>\n",
       "      <th>longitude</th>\n",
       "      <th>stnelev</th>\n",
       "      <th>station</th>\n",
       "      <th>countryid</th>\n",
       "      <th>country</th>\n",
       "    </tr>\n",
       "  </thead>\n",
       "  <tbody>\n",
       "    <tr>\n",
       "      <th>0</th>\n",
       "      <td>USS0010K01S</td>\n",
       "      <td>2000</td>\n",
       "      <td>4</td>\n",
       "      <td>5.27</td>\n",
       "      <td>39.9000</td>\n",
       "      <td>-110.7500</td>\n",
       "      <td>2773.7</td>\n",
       "      <td>INDIAN_CANYON</td>\n",
       "      <td>US</td>\n",
       "      <td>United States</td>\n",
       "    </tr>\n",
       "    <tr>\n",
       "      <th>1</th>\n",
       "      <td>CI000085406</td>\n",
       "      <td>1940</td>\n",
       "      <td>5</td>\n",
       "      <td>18.04</td>\n",
       "      <td>-18.3500</td>\n",
       "      <td>-70.3330</td>\n",
       "      <td>58.0</td>\n",
       "      <td>ARICA</td>\n",
       "      <td>CI</td>\n",
       "      <td>Chile</td>\n",
       "    </tr>\n",
       "    <tr>\n",
       "      <th>2</th>\n",
       "      <td>USC00036376</td>\n",
       "      <td>2013</td>\n",
       "      <td>12</td>\n",
       "      <td>6.22</td>\n",
       "      <td>34.3703</td>\n",
       "      <td>-91.1242</td>\n",
       "      <td>61.0</td>\n",
       "      <td>SAINT_CHARLES</td>\n",
       "      <td>US</td>\n",
       "      <td>United States</td>\n",
       "    </tr>\n",
       "    <tr>\n",
       "      <th>4</th>\n",
       "      <td>ASN00028007</td>\n",
       "      <td>2001</td>\n",
       "      <td>11</td>\n",
       "      <td>NaN</td>\n",
       "      <td>-14.7803</td>\n",
       "      <td>143.5036</td>\n",
       "      <td>79.4</td>\n",
       "      <td>MUSGRAVE</td>\n",
       "      <td>AS</td>\n",
       "      <td>Australia</td>\n",
       "    </tr>\n",
       "    <tr>\n",
       "      <th>5</th>\n",
       "      <td>USW00024151</td>\n",
       "      <td>1991</td>\n",
       "      <td>4</td>\n",
       "      <td>5.59</td>\n",
       "      <td>42.1492</td>\n",
       "      <td>-112.2872</td>\n",
       "      <td>1362.5</td>\n",
       "      <td>MALAD_CITY</td>\n",
       "      <td>US</td>\n",
       "      <td>United States</td>\n",
       "    </tr>\n",
       "    <tr>\n",
       "      <th>...</th>\n",
       "      <td>...</td>\n",
       "      <td>...</td>\n",
       "      <td>...</td>\n",
       "      <td>...</td>\n",
       "      <td>...</td>\n",
       "      <td>...</td>\n",
       "      <td>...</td>\n",
       "      <td>...</td>\n",
       "      <td>...</td>\n",
       "      <td>...</td>\n",
       "    </tr>\n",
       "    <tr>\n",
       "      <th>99994</th>\n",
       "      <td>ETXLT861343</td>\n",
       "      <td>1971</td>\n",
       "      <td>7</td>\n",
       "      <td>15.39</td>\n",
       "      <td>8.9800</td>\n",
       "      <td>38.8000</td>\n",
       "      <td>2324.0</td>\n",
       "      <td>ADDIS_ABABA</td>\n",
       "      <td>ET</td>\n",
       "      <td>Ethiopia</td>\n",
       "    </tr>\n",
       "    <tr>\n",
       "      <th>99995</th>\n",
       "      <td>MXXLT347415</td>\n",
       "      <td>1991</td>\n",
       "      <td>4</td>\n",
       "      <td>29.02</td>\n",
       "      <td>17.7800</td>\n",
       "      <td>-96.3100</td>\n",
       "      <td>65.0</td>\n",
       "      <td>VALLE_NACIONAL_VALLE</td>\n",
       "      <td>MX</td>\n",
       "      <td>Mexico</td>\n",
       "    </tr>\n",
       "    <tr>\n",
       "      <th>99996</th>\n",
       "      <td>RSM00032287</td>\n",
       "      <td>1991</td>\n",
       "      <td>11</td>\n",
       "      <td>-2.81</td>\n",
       "      <td>57.0800</td>\n",
       "      <td>156.7000</td>\n",
       "      <td>3.0</td>\n",
       "      <td>UST_HAIRYUZOVO</td>\n",
       "      <td>RS</td>\n",
       "      <td>Russia</td>\n",
       "    </tr>\n",
       "    <tr>\n",
       "      <th>99997</th>\n",
       "      <td>ARM00087166</td>\n",
       "      <td>1937</td>\n",
       "      <td>4</td>\n",
       "      <td>19.42</td>\n",
       "      <td>-27.4460</td>\n",
       "      <td>-58.7620</td>\n",
       "      <td>61.9</td>\n",
       "      <td>CORRIENTES</td>\n",
       "      <td>AR</td>\n",
       "      <td>Argentina</td>\n",
       "    </tr>\n",
       "    <tr>\n",
       "      <th>99998</th>\n",
       "      <td>CA006137361</td>\n",
       "      <td>1958</td>\n",
       "      <td>10</td>\n",
       "      <td>10.02</td>\n",
       "      <td>42.7833</td>\n",
       "      <td>-81.1667</td>\n",
       "      <td>236.0</td>\n",
       "      <td>ST_THOMAS</td>\n",
       "      <td>CA</td>\n",
       "      <td>Canada</td>\n",
       "    </tr>\n",
       "  </tbody>\n",
       "</table>\n",
       "<p>74983 rows × 10 columns</p>\n",
       "</div>"
      ],
      "text/plain": [
       "        locationid  year  month   temp  latitude  longitude  stnelev  \\\n",
       "0      USS0010K01S  2000      4   5.27   39.9000  -110.7500   2773.7   \n",
       "1      CI000085406  1940      5  18.04  -18.3500   -70.3330     58.0   \n",
       "2      USC00036376  2013     12   6.22   34.3703   -91.1242     61.0   \n",
       "4      ASN00028007  2001     11    NaN  -14.7803   143.5036     79.4   \n",
       "5      USW00024151  1991      4   5.59   42.1492  -112.2872   1362.5   \n",
       "...            ...   ...    ...    ...       ...        ...      ...   \n",
       "99994  ETXLT861343  1971      7  15.39    8.9800    38.8000   2324.0   \n",
       "99995  MXXLT347415  1991      4  29.02   17.7800   -96.3100     65.0   \n",
       "99996  RSM00032287  1991     11  -2.81   57.0800   156.7000      3.0   \n",
       "99997  ARM00087166  1937      4  19.42  -27.4460   -58.7620     61.9   \n",
       "99998  CA006137361  1958     10  10.02   42.7833   -81.1667    236.0   \n",
       "\n",
       "                    station countryid        country  \n",
       "0             INDIAN_CANYON        US  United States  \n",
       "1                     ARICA        CI          Chile  \n",
       "2             SAINT_CHARLES        US  United States  \n",
       "4                  MUSGRAVE        AS      Australia  \n",
       "5                MALAD_CITY        US  United States  \n",
       "...                     ...       ...            ...  \n",
       "99994           ADDIS_ABABA        ET       Ethiopia  \n",
       "99995  VALLE_NACIONAL_VALLE        MX         Mexico  \n",
       "99996        UST_HAIRYUZOVO        RS         Russia  \n",
       "99997            CORRIENTES        AR      Argentina  \n",
       "99998             ST_THOMAS        CA         Canada  \n",
       "\n",
       "[74983 rows x 10 columns]"
      ]
     },
     "execution_count": 56,
     "metadata": {},
     "output_type": "execute_result"
    }
   ],
   "source": [
    "df[df['month']>3] # only true rows are picked up"
   ]
  },
  {
   "cell_type": "code",
   "execution_count": 59,
   "id": "9637279c",
   "metadata": {},
   "outputs": [
    {
     "data": {
      "text/html": [
       "<div>\n",
       "<style scoped>\n",
       "    .dataframe tbody tr th:only-of-type {\n",
       "        vertical-align: middle;\n",
       "    }\n",
       "\n",
       "    .dataframe tbody tr th {\n",
       "        vertical-align: top;\n",
       "    }\n",
       "\n",
       "    .dataframe thead th {\n",
       "        text-align: right;\n",
       "    }\n",
       "</style>\n",
       "<table border=\"1\" class=\"dataframe\">\n",
       "  <thead>\n",
       "    <tr style=\"text-align: right;\">\n",
       "      <th></th>\n",
       "      <th>locationid</th>\n",
       "      <th>year</th>\n",
       "      <th>month</th>\n",
       "      <th>temp</th>\n",
       "      <th>latitude</th>\n",
       "      <th>longitude</th>\n",
       "      <th>stnelev</th>\n",
       "      <th>station</th>\n",
       "      <th>countryid</th>\n",
       "      <th>country</th>\n",
       "    </tr>\n",
       "  </thead>\n",
       "  <tbody>\n",
       "    <tr>\n",
       "      <th>0</th>\n",
       "      <td>USS0010K01S</td>\n",
       "      <td>2000</td>\n",
       "      <td>4</td>\n",
       "      <td>5.27</td>\n",
       "      <td>39.9000</td>\n",
       "      <td>-110.7500</td>\n",
       "      <td>2773.7</td>\n",
       "      <td>INDIAN_CANYON</td>\n",
       "      <td>US</td>\n",
       "      <td>United States</td>\n",
       "    </tr>\n",
       "    <tr>\n",
       "      <th>1</th>\n",
       "      <td>CI000085406</td>\n",
       "      <td>1940</td>\n",
       "      <td>5</td>\n",
       "      <td>18.04</td>\n",
       "      <td>-18.3500</td>\n",
       "      <td>-70.3330</td>\n",
       "      <td>58.0</td>\n",
       "      <td>ARICA</td>\n",
       "      <td>CI</td>\n",
       "      <td>Chile</td>\n",
       "    </tr>\n",
       "    <tr>\n",
       "      <th>5</th>\n",
       "      <td>USW00024151</td>\n",
       "      <td>1991</td>\n",
       "      <td>4</td>\n",
       "      <td>5.59</td>\n",
       "      <td>42.1492</td>\n",
       "      <td>-112.2872</td>\n",
       "      <td>1362.5</td>\n",
       "      <td>MALAD_CITY</td>\n",
       "      <td>US</td>\n",
       "      <td>United States</td>\n",
       "    </tr>\n",
       "    <tr>\n",
       "      <th>21</th>\n",
       "      <td>USC00465621</td>\n",
       "      <td>1915</td>\n",
       "      <td>4</td>\n",
       "      <td>11.69</td>\n",
       "      <td>39.5500</td>\n",
       "      <td>-80.3500</td>\n",
       "      <td>299.0</td>\n",
       "      <td>MANNINGTON_1_N</td>\n",
       "      <td>US</td>\n",
       "      <td>United States</td>\n",
       "    </tr>\n",
       "    <tr>\n",
       "      <th>22</th>\n",
       "      <td>FIE00145947</td>\n",
       "      <td>2007</td>\n",
       "      <td>4</td>\n",
       "      <td>0.73</td>\n",
       "      <td>65.9325</td>\n",
       "      <td>26.5164</td>\n",
       "      <td>154.0</td>\n",
       "      <td>RANUA_KK</td>\n",
       "      <td>FI</td>\n",
       "      <td>Finland</td>\n",
       "    </tr>\n",
       "    <tr>\n",
       "      <th>...</th>\n",
       "      <td>...</td>\n",
       "      <td>...</td>\n",
       "      <td>...</td>\n",
       "      <td>...</td>\n",
       "      <td>...</td>\n",
       "      <td>...</td>\n",
       "      <td>...</td>\n",
       "      <td>...</td>\n",
       "      <td>...</td>\n",
       "      <td>...</td>\n",
       "    </tr>\n",
       "    <tr>\n",
       "      <th>99974</th>\n",
       "      <td>MXXLT223734</td>\n",
       "      <td>1989</td>\n",
       "      <td>5</td>\n",
       "      <td>NaN</td>\n",
       "      <td>23.2100</td>\n",
       "      <td>-110.0300</td>\n",
       "      <td>80.0</td>\n",
       "      <td>SAN_JACINTOTODOS_SAN</td>\n",
       "      <td>MX</td>\n",
       "      <td>Mexico</td>\n",
       "    </tr>\n",
       "    <tr>\n",
       "      <th>99979</th>\n",
       "      <td>ASN00066062</td>\n",
       "      <td>2015</td>\n",
       "      <td>5</td>\n",
       "      <td>16.56</td>\n",
       "      <td>-33.8607</td>\n",
       "      <td>151.2050</td>\n",
       "      <td>39.0</td>\n",
       "      <td>SYDNEY_OBSERVATORY_HILL</td>\n",
       "      <td>AS</td>\n",
       "      <td>Australia</td>\n",
       "    </tr>\n",
       "    <tr>\n",
       "      <th>99990</th>\n",
       "      <td>RP000098429</td>\n",
       "      <td>1995</td>\n",
       "      <td>4</td>\n",
       "      <td>29.64</td>\n",
       "      <td>14.5170</td>\n",
       "      <td>121.0000</td>\n",
       "      <td>15.0</td>\n",
       "      <td>NINOY_AQUINO_INTERN</td>\n",
       "      <td>RP</td>\n",
       "      <td>Philippines</td>\n",
       "    </tr>\n",
       "    <tr>\n",
       "      <th>99995</th>\n",
       "      <td>MXXLT347415</td>\n",
       "      <td>1991</td>\n",
       "      <td>4</td>\n",
       "      <td>29.02</td>\n",
       "      <td>17.7800</td>\n",
       "      <td>-96.3100</td>\n",
       "      <td>65.0</td>\n",
       "      <td>VALLE_NACIONAL_VALLE</td>\n",
       "      <td>MX</td>\n",
       "      <td>Mexico</td>\n",
       "    </tr>\n",
       "    <tr>\n",
       "      <th>99997</th>\n",
       "      <td>ARM00087166</td>\n",
       "      <td>1937</td>\n",
       "      <td>4</td>\n",
       "      <td>19.42</td>\n",
       "      <td>-27.4460</td>\n",
       "      <td>-58.7620</td>\n",
       "      <td>61.9</td>\n",
       "      <td>CORRIENTES</td>\n",
       "      <td>AR</td>\n",
       "      <td>Argentina</td>\n",
       "    </tr>\n",
       "  </tbody>\n",
       "</table>\n",
       "<p>16643 rows × 10 columns</p>\n",
       "</div>"
      ],
      "text/plain": [
       "        locationid  year  month   temp  latitude  longitude  stnelev  \\\n",
       "0      USS0010K01S  2000      4   5.27   39.9000  -110.7500   2773.7   \n",
       "1      CI000085406  1940      5  18.04  -18.3500   -70.3330     58.0   \n",
       "5      USW00024151  1991      4   5.59   42.1492  -112.2872   1362.5   \n",
       "21     USC00465621  1915      4  11.69   39.5500   -80.3500    299.0   \n",
       "22     FIE00145947  2007      4   0.73   65.9325    26.5164    154.0   \n",
       "...            ...   ...    ...    ...       ...        ...      ...   \n",
       "99974  MXXLT223734  1989      5    NaN   23.2100  -110.0300     80.0   \n",
       "99979  ASN00066062  2015      5  16.56  -33.8607   151.2050     39.0   \n",
       "99990  RP000098429  1995      4  29.64   14.5170   121.0000     15.0   \n",
       "99995  MXXLT347415  1991      4  29.02   17.7800   -96.3100     65.0   \n",
       "99997  ARM00087166  1937      4  19.42  -27.4460   -58.7620     61.9   \n",
       "\n",
       "                       station countryid        country  \n",
       "0                INDIAN_CANYON        US  United States  \n",
       "1                        ARICA        CI          Chile  \n",
       "5                   MALAD_CITY        US  United States  \n",
       "21              MANNINGTON_1_N        US  United States  \n",
       "22                    RANUA_KK        FI        Finland  \n",
       "...                        ...       ...            ...  \n",
       "99974     SAN_JACINTOTODOS_SAN        MX         Mexico  \n",
       "99979  SYDNEY_OBSERVATORY_HILL        AS      Australia  \n",
       "99990      NINOY_AQUINO_INTERN        RP    Philippines  \n",
       "99995     VALLE_NACIONAL_VALLE        MX         Mexico  \n",
       "99997               CORRIENTES        AR      Argentina  \n",
       "\n",
       "[16643 rows x 10 columns]"
      ]
     },
     "execution_count": 59,
     "metadata": {},
     "output_type": "execute_result"
    }
   ],
   "source": [
    "df[(df['month']>3)&(df['month']<6)]"
   ]
  },
  {
   "cell_type": "code",
   "execution_count": null,
   "id": "328a4bde",
   "metadata": {},
   "outputs": [],
   "source": [
    "Correlation is the degree of linear relationship\n",
    "linear relationship when you can write one term in terms of others\n",
    "when one can be expressed as a function of the other"
   ]
  },
  {
   "cell_type": "code",
   "execution_count": null,
   "id": "079886b5",
   "metadata": {},
   "outputs": [],
   "source": [
    "when corr is 1 or -1, perfectly correlated"
   ]
  },
  {
   "cell_type": "code",
   "execution_count": 60,
   "id": "2fd34a37",
   "metadata": {},
   "outputs": [
    {
     "data": {
      "text/html": [
       "<div>\n",
       "<style scoped>\n",
       "    .dataframe tbody tr th:only-of-type {\n",
       "        vertical-align: middle;\n",
       "    }\n",
       "\n",
       "    .dataframe tbody tr th {\n",
       "        vertical-align: top;\n",
       "    }\n",
       "\n",
       "    .dataframe thead th {\n",
       "        text-align: right;\n",
       "    }\n",
       "</style>\n",
       "<table border=\"1\" class=\"dataframe\">\n",
       "  <thead>\n",
       "    <tr style=\"text-align: right;\">\n",
       "      <th></th>\n",
       "      <th>year</th>\n",
       "      <th>month</th>\n",
       "      <th>temp</th>\n",
       "      <th>latitude</th>\n",
       "      <th>longitude</th>\n",
       "      <th>stnelev</th>\n",
       "    </tr>\n",
       "  </thead>\n",
       "  <tbody>\n",
       "    <tr>\n",
       "      <th>year</th>\n",
       "      <td>1.000000</td>\n",
       "      <td>-0.000873</td>\n",
       "      <td>0.010263</td>\n",
       "      <td>-0.030330</td>\n",
       "      <td>0.017549</td>\n",
       "      <td>0.016371</td>\n",
       "    </tr>\n",
       "    <tr>\n",
       "      <th>month</th>\n",
       "      <td>-0.000873</td>\n",
       "      <td>1.000000</td>\n",
       "      <td>0.152352</td>\n",
       "      <td>0.003395</td>\n",
       "      <td>0.004964</td>\n",
       "      <td>-0.002225</td>\n",
       "    </tr>\n",
       "    <tr>\n",
       "      <th>temp</th>\n",
       "      <td>0.010263</td>\n",
       "      <td>0.152352</td>\n",
       "      <td>1.000000</td>\n",
       "      <td>-0.397717</td>\n",
       "      <td>0.071065</td>\n",
       "      <td>-0.060881</td>\n",
       "    </tr>\n",
       "    <tr>\n",
       "      <th>latitude</th>\n",
       "      <td>-0.030330</td>\n",
       "      <td>0.003395</td>\n",
       "      <td>-0.397717</td>\n",
       "      <td>1.000000</td>\n",
       "      <td>-0.338208</td>\n",
       "      <td>-0.050871</td>\n",
       "    </tr>\n",
       "    <tr>\n",
       "      <th>longitude</th>\n",
       "      <td>0.017549</td>\n",
       "      <td>0.004964</td>\n",
       "      <td>0.071065</td>\n",
       "      <td>-0.338208</td>\n",
       "      <td>1.000000</td>\n",
       "      <td>-0.092062</td>\n",
       "    </tr>\n",
       "    <tr>\n",
       "      <th>stnelev</th>\n",
       "      <td>0.016371</td>\n",
       "      <td>-0.002225</td>\n",
       "      <td>-0.060881</td>\n",
       "      <td>-0.050871</td>\n",
       "      <td>-0.092062</td>\n",
       "      <td>1.000000</td>\n",
       "    </tr>\n",
       "  </tbody>\n",
       "</table>\n",
       "</div>"
      ],
      "text/plain": [
       "               year     month      temp  latitude  longitude   stnelev\n",
       "year       1.000000 -0.000873  0.010263 -0.030330   0.017549  0.016371\n",
       "month     -0.000873  1.000000  0.152352  0.003395   0.004964 -0.002225\n",
       "temp       0.010263  0.152352  1.000000 -0.397717   0.071065 -0.060881\n",
       "latitude  -0.030330  0.003395 -0.397717  1.000000  -0.338208 -0.050871\n",
       "longitude  0.017549  0.004964  0.071065 -0.338208   1.000000 -0.092062\n",
       "stnelev    0.016371 -0.002225 -0.060881 -0.050871  -0.092062  1.000000"
      ]
     },
     "execution_count": 60,
     "metadata": {},
     "output_type": "execute_result"
    }
   ],
   "source": [
    "df.corr() #for correlation"
   ]
  },
  {
   "cell_type": "code",
   "execution_count": null,
   "id": "1ec1b383",
   "metadata": {},
   "outputs": [],
   "source": [
    "#numpy-log,corr"
   ]
  },
  {
   "cell_type": "code",
   "execution_count": 61,
   "id": "83312162",
   "metadata": {},
   "outputs": [
    {
     "data": {
      "text/html": [
       "<div>\n",
       "<style scoped>\n",
       "    .dataframe tbody tr th:only-of-type {\n",
       "        vertical-align: middle;\n",
       "    }\n",
       "\n",
       "    .dataframe tbody tr th {\n",
       "        vertical-align: top;\n",
       "    }\n",
       "\n",
       "    .dataframe thead th {\n",
       "        text-align: right;\n",
       "    }\n",
       "</style>\n",
       "<table border=\"1\" class=\"dataframe\">\n",
       "  <thead>\n",
       "    <tr style=\"text-align: right;\">\n",
       "      <th></th>\n",
       "      <th>year</th>\n",
       "      <th>month</th>\n",
       "      <th>temp</th>\n",
       "      <th>latitude</th>\n",
       "      <th>longitude</th>\n",
       "      <th>stnelev</th>\n",
       "    </tr>\n",
       "  </thead>\n",
       "  <tbody>\n",
       "    <tr>\n",
       "      <th>count</th>\n",
       "      <td>100000.000000</td>\n",
       "      <td>100000.000000</td>\n",
       "      <td>85554.000000</td>\n",
       "      <td>100000.000000</td>\n",
       "      <td>100000.000000</td>\n",
       "      <td>100000.000000</td>\n",
       "    </tr>\n",
       "    <tr>\n",
       "      <th>mean</th>\n",
       "      <td>1969.458030</td>\n",
       "      <td>6.494640</td>\n",
       "      <td>10.920770</td>\n",
       "      <td>35.075456</td>\n",
       "      <td>-38.123732</td>\n",
       "      <td>565.562545</td>\n",
       "    </tr>\n",
       "    <tr>\n",
       "      <th>std</th>\n",
       "      <td>35.836832</td>\n",
       "      <td>3.446463</td>\n",
       "      <td>11.522444</td>\n",
       "      <td>23.545646</td>\n",
       "      <td>84.297049</td>\n",
       "      <td>1073.647214</td>\n",
       "    </tr>\n",
       "    <tr>\n",
       "      <th>min</th>\n",
       "      <td>1720.000000</td>\n",
       "      <td>1.000000</td>\n",
       "      <td>-70.700000</td>\n",
       "      <td>-90.000000</td>\n",
       "      <td>-179.983000</td>\n",
       "      <td>-350.000000</td>\n",
       "    </tr>\n",
       "    <tr>\n",
       "      <th>25%</th>\n",
       "      <td>1949.000000</td>\n",
       "      <td>3.000000</td>\n",
       "      <td>3.460000</td>\n",
       "      <td>33.190675</td>\n",
       "      <td>-101.657925</td>\n",
       "      <td>64.000000</td>\n",
       "    </tr>\n",
       "    <tr>\n",
       "      <th>50%</th>\n",
       "      <td>1975.000000</td>\n",
       "      <td>6.000000</td>\n",
       "      <td>12.220000</td>\n",
       "      <td>40.793050</td>\n",
       "      <td>-79.568300</td>\n",
       "      <td>240.800000</td>\n",
       "    </tr>\n",
       "    <tr>\n",
       "      <th>75%</th>\n",
       "      <td>1998.000000</td>\n",
       "      <td>9.000000</td>\n",
       "      <td>19.570000</td>\n",
       "      <td>47.424700</td>\n",
       "      <td>17.533100</td>\n",
       "      <td>644.700000</td>\n",
       "    </tr>\n",
       "    <tr>\n",
       "      <th>max</th>\n",
       "      <td>2020.000000</td>\n",
       "      <td>12.000000</td>\n",
       "      <td>39.950000</td>\n",
       "      <td>82.516700</td>\n",
       "      <td>179.750000</td>\n",
       "      <td>9999.000000</td>\n",
       "    </tr>\n",
       "  </tbody>\n",
       "</table>\n",
       "</div>"
      ],
      "text/plain": [
       "                year          month          temp       latitude  \\\n",
       "count  100000.000000  100000.000000  85554.000000  100000.000000   \n",
       "mean     1969.458030       6.494640     10.920770      35.075456   \n",
       "std        35.836832       3.446463     11.522444      23.545646   \n",
       "min      1720.000000       1.000000    -70.700000     -90.000000   \n",
       "25%      1949.000000       3.000000      3.460000      33.190675   \n",
       "50%      1975.000000       6.000000     12.220000      40.793050   \n",
       "75%      1998.000000       9.000000     19.570000      47.424700   \n",
       "max      2020.000000      12.000000     39.950000      82.516700   \n",
       "\n",
       "           longitude        stnelev  \n",
       "count  100000.000000  100000.000000  \n",
       "mean      -38.123732     565.562545  \n",
       "std        84.297049    1073.647214  \n",
       "min      -179.983000    -350.000000  \n",
       "25%      -101.657925      64.000000  \n",
       "50%       -79.568300     240.800000  \n",
       "75%        17.533100     644.700000  \n",
       "max       179.750000    9999.000000  "
      ]
     },
     "execution_count": 61,
     "metadata": {},
     "output_type": "execute_result"
    }
   ],
   "source": [
    "df.describe()"
   ]
  },
  {
   "cell_type": "code",
   "execution_count": null,
   "id": "1c5dcb9d",
   "metadata": {},
   "outputs": [],
   "source": []
  }
 ],
 "metadata": {
  "kernelspec": {
   "display_name": "Python 3 (ipykernel)",
   "language": "python",
   "name": "python3"
  },
  "language_info": {
   "codemirror_mode": {
    "name": "ipython",
    "version": 3
   },
   "file_extension": ".py",
   "mimetype": "text/x-python",
   "name": "python",
   "nbconvert_exporter": "python",
   "pygments_lexer": "ipython3",
   "version": "3.9.10"
  }
 },
 "nbformat": 4,
 "nbformat_minor": 5
}
